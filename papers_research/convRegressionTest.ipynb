{
 "cells": [
  {
   "cell_type": "code",
   "execution_count": 1,
   "source": [
    "import keras\r\n",
    "from keras import backend as K\r\n",
    "import numpy as np\r\n",
    "import matplotlib.pyplot as plt\r\n",
    "from mpl_toolkits.mplot3d import axes3d\r\n",
    "%matplotlib inline\r\n",
    "from IPython.display import display"
   ],
   "outputs": [
    {
     "output_type": "stream",
     "name": "stderr",
     "text": [
      "Using TensorFlow backend.\n"
     ]
    }
   ],
   "metadata": {}
  },
  {
   "cell_type": "code",
   "execution_count": 2,
   "source": [
    "from keras.preprocessing import image\r\n",
    "from keras.applications.xception import preprocess_input, decode_predictions"
   ],
   "outputs": [],
   "metadata": {}
  },
  {
   "cell_type": "code",
   "execution_count": 3,
   "source": [
    "def grab_image(img_path_base, index, numImages):\r\n",
    "    #Desired image dimension (image will be square ie # by # pixels)\r\n",
    "    imageDim = 100\r\n",
    "    \r\n",
    "    if (index<10):\r\n",
    "        img_path = img_path_base+\"000\"+str(index)+\"_model.png\"\r\n",
    "    elif (index<100 and index >=10):\r\n",
    "        img_path = img_path_base+\"00\"+str(index)+\"_model.png\"\r\n",
    "    elif (index<1000 and index>=100):\r\n",
    "        img_path = img_path_base+\"0\"+str(index)+\"_model.png\"\r\n",
    "    elif (index<10000 and index>=1000):\r\n",
    "        img_path = img_path_base+str(index)+\"_model.png\"\r\n",
    "        \r\n",
    "    img = image.load_img(img_path, target_size=(imageDim, imageDim), color_mode = \"grayscale\")\r\n",
    "    x = image.img_to_array(img)\r\n",
    "    x = np.expand_dims(x, axis=0)\r\n",
    "    x = preprocess_input(x)\r\n",
    "    return x\r\n",
    "\r\n",
    "#Num of images to read in\r\n",
    "numImages = 600\r\n",
    "X = np.concatenate([grab_image('/home/atm4w/Project/Data/miscImgs/',i, numImages) for i in range(numImages)]) \r\n",
    "X /= 255.0\r\n",
    "\r\n",
    "X.shape"
   ],
   "outputs": [
    {
     "output_type": "execute_result",
     "data": {
      "text/plain": [
       "(600, 100, 100, 1)"
      ]
     },
     "metadata": {},
     "execution_count": 3
    }
   ],
   "metadata": {}
  },
  {
   "cell_type": "code",
   "execution_count": 4,
   "source": [
    "plt.imshow(image.array_to_img(X[45,:,:,:]), cmap='Greys_r')\r\n",
    "plt.show()"
   ],
   "outputs": [
    {
     "output_type": "display_data",
     "data": {
      "text/plain": [
       "<Figure size 432x288 with 1 Axes>"
      ],
      "image/png": "[encoded data removed]"
     },
     "metadata": {
      "needs_background": "light"
     }
    }
   ],
   "metadata": {}
  },
  {
   "cell_type": "code",
   "execution_count": 5,
   "source": [
    "Y = np.loadtxt('/home/atm4w/Project/Data/miscImgs/scores/humanScores.txt')\r\n",
    "display(Y.shape)\r\n",
    "display(Y[0:10])"
   ],
   "outputs": [
    {
     "output_type": "display_data",
     "data": {
      "text/plain": [
       "(1294,)"
      ]
     },
     "metadata": {}
    },
    {
     "output_type": "display_data",
     "data": {
      "text/plain": [
       "array([0.945946, 0.941176, 0.918919, 0.916667, 0.916667, 0.914286,\n",
       "       0.914286, 0.911765, 0.891892, 0.885714])"
      ]
     },
     "metadata": {}
    }
   ],
   "metadata": {}
  },
  {
   "cell_type": "code",
   "execution_count": 6,
   "source": [
    "p = np.random.permutation(len(X))\r\n",
    "Xshuffled = X[p]\r\n",
    "Yshuffled = Y[p]\r\n",
    "\r\n",
    "display(Xshuffled.shape)\r\n",
    "display(Yshuffled.shape)"
   ],
   "outputs": [
    {
     "output_type": "display_data",
     "data": {
      "text/plain": [
       "(600, 100, 100, 1)"
      ]
     },
     "metadata": {}
    },
    {
     "output_type": "display_data",
     "data": {
      "text/plain": [
       "(600,)"
      ]
     },
     "metadata": {}
    }
   ],
   "metadata": {}
  },
  {
   "cell_type": "code",
   "execution_count": 7,
   "source": [
    "plt.imshow(image.array_to_img(Xshuffled[0,:,:,:]), cmap='Greys_r')\r\n",
    "plt.show()\r\n",
    "display(Yshuffled[0])"
   ],
   "outputs": [
    {
     "output_type": "display_data",
     "data": {
      "text/plain": [
       "<Figure size 432x288 with 1 Axes>"
      ],
      "image/png": "[encoded data removed]"
     },
     "metadata": {
      "needs_background": "light"
     }
    },
    {
     "output_type": "display_data",
     "data": {
      "text/plain": [
       "0.864865"
      ]
     },
     "metadata": {}
    }
   ],
   "metadata": {}
  },
  {
   "cell_type": "code",
   "execution_count": 8,
   "source": [
    "x_train = Xshuffled[0:(round(numImages*.85)),:,:]\r\n",
    "y_train = Yshuffled[0:(round(numImages*.85))]\r\n",
    "x_test = Xshuffled[(round(numImages*.85)): , : , :]\r\n",
    "y_test = Yshuffled[(round(numImages*.85)):]\r\n",
    "\r\n",
    "display(x_train.shape)\r\n",
    "display(y_train.shape)\r\n",
    "display(x_test.shape)\r\n",
    "display(y_test.shape)"
   ],
   "outputs": [
    {
     "output_type": "display_data",
     "data": {
      "text/plain": [
       "(510, 100, 100, 1)"
      ]
     },
     "metadata": {}
    },
    {
     "output_type": "display_data",
     "data": {
      "text/plain": [
       "(510,)"
      ]
     },
     "metadata": {}
    },
    {
     "output_type": "display_data",
     "data": {
      "text/plain": [
       "(90, 100, 100, 1)"
      ]
     },
     "metadata": {}
    },
    {
     "output_type": "display_data",
     "data": {
      "text/plain": [
       "(90,)"
      ]
     },
     "metadata": {}
    }
   ],
   "metadata": {}
  },
  {
   "cell_type": "code",
   "execution_count": 53,
   "source": [
    "model = keras.Sequential()\r\n",
    "model.add(keras.layers.Conv2D(16, kernel_size=(12, 12),\r\n",
    "                activation='relu',\r\n",
    "                input_shape=[x_test.shape[1],\r\n",
    "                x_test.shape[2],\r\n",
    "                x_test.shape[3]]))\r\n",
    "model.add(keras.layers.Conv2D(16, kernel_size=(8, 8), activation='relu'))\r\n",
    "model.add(keras.layers.MaxPooling2D(pool_size=(4, 4)))\r\n",
    "model.add(keras.layers.Dropout(0.3))\r\n",
    "\r\n",
    "model.add(keras.layers.Conv2D(8, kernel_size=(4, 4), activation='relu'))\r\n",
    "#model.add(keras.layers.Conv2D(16, kernel_size=(12, 12), activation='relu'))\r\n",
    "#model.add(keras.layers.MaxPooling2D(pool_size=(4, 4)))\r\n",
    "#model.add(keras.layers.Dropout(0.25))\r\n",
    "\r\n",
    "model.add(keras.layers.Flatten())\r\n",
    "#model.add(keras.layers.Dense(128, activation='relu'))\r\n",
    "#model.add(keras.layers.Dropout(0.5))\r\n",
    "model.add(keras.layers.Dense(1, activation='sigmoid'))\r\n",
    "\r\n",
    "\r\n",
    "model.compile(loss=keras.losses.mean_squared_error, optimizer=keras.optimizers.Adam(learning_rate=0.0001), metrics=['mse'])\r\n",
    "model.summary()"
   ],
   "outputs": [
    {
     "output_type": "stream",
     "name": "stdout",
     "text": [
      "Model: \"sequential_3\"\n",
      "_________________________________________________________________\n",
      "Layer (type)                 Output Shape              Param #   \n",
      "=================================================================\n",
      "conv2d_7 (Conv2D)            (None, 89, 89, 16)        2320      \n",
      "_________________________________________________________________\n",
      "conv2d_8 (Conv2D)            (None, 82, 82, 16)        16400     \n",
      "_________________________________________________________________\n",
      "max_pooling2d_3 (MaxPooling2 (None, 20, 20, 16)        0         \n",
      "_________________________________________________________________\n",
      "dropout_3 (Dropout)          (None, 20, 20, 16)        0         \n",
      "_________________________________________________________________\n",
      "conv2d_9 (Conv2D)            (None, 17, 17, 8)         2056      \n",
      "_________________________________________________________________\n",
      "flatten_3 (Flatten)          (None, 2312)              0         \n",
      "_________________________________________________________________\n",
      "dense_3 (Dense)              (None, 1)                 2313      \n",
      "=================================================================\n",
      "Total params: 23,089\n",
      "Trainable params: 23,089\n",
      "Non-trainable params: 0\n",
      "_________________________________________________________________\n"
     ]
    }
   ],
   "metadata": {}
  },
  {
   "cell_type": "code",
   "execution_count": 54,
   "source": [
    "batch_size = 4\r\n",
    "epochs = 120\r\n",
    "history = model.fit(x_train, y_train,\r\n",
    "    batch_size=batch_size,\r\n",
    "    epochs=epochs,\r\n",
    "    verbose=1,\r\n",
    "    validation_split = 0.3)"
   ],
   "outputs": [
    {
     "output_type": "stream",
     "name": "stdout",
     "text": [
      "Train on 357 samples, validate on 153 samples\n",
      "Epoch 1/120\n",
      "357/357 [==============================] - 15s 41ms/step - loss: 0.0708 - mse: 0.0708 - val_loss: 0.0537 - val_mse: 0.0537\n",
      "Epoch 2/120\n",
      "357/357 [==============================] - 12s 33ms/step - loss: 0.0503 - mse: 0.0503 - val_loss: 0.0543 - val_mse: 0.0543\n",
      "Epoch 3/120\n",
      "357/357 [==============================] - 11s 31ms/step - loss: 0.0508 - mse: 0.0508 - val_loss: 0.0538 - val_mse: 0.0538\n",
      "Epoch 4/120\n",
      "357/357 [==============================] - 14s 40ms/step - loss: 0.0500 - mse: 0.0500 - val_loss: 0.0541 - val_mse: 0.0541\n",
      "Epoch 5/120\n",
      "357/357 [==============================] - 15s 42ms/step - loss: 0.0504 - mse: 0.0504 - val_loss: 0.0538 - val_mse: 0.0538\n",
      "Epoch 6/120\n",
      "357/357 [==============================] - 15s 41ms/step - loss: 0.0503 - mse: 0.0503 - val_loss: 0.0537 - val_mse: 0.0537\n",
      "Epoch 7/120\n",
      "357/357 [==============================] - 14s 40ms/step - loss: 0.0505 - mse: 0.0505 - val_loss: 0.0537 - val_mse: 0.0537\n",
      "Epoch 8/120\n",
      "357/357 [==============================] - 14s 39ms/step - loss: 0.0507 - mse: 0.0507 - val_loss: 0.0537 - val_mse: 0.0537\n",
      "Epoch 9/120\n",
      "357/357 [==============================] - 14s 40ms/step - loss: 0.0508 - mse: 0.0508 - val_loss: 0.0537 - val_mse: 0.0537\n",
      "Epoch 10/120\n",
      "357/357 [==============================] - 14s 40ms/step - loss: 0.0503 - mse: 0.0503 - val_loss: 0.0537 - val_mse: 0.0537\n",
      "Epoch 11/120\n",
      "357/357 [==============================] - 14s 39ms/step - loss: 0.0504 - mse: 0.0504 - val_loss: 0.0540 - val_mse: 0.0540\n",
      "Epoch 12/120\n",
      "357/357 [==============================] - 14s 39ms/step - loss: 0.0501 - mse: 0.0501 - val_loss: 0.0537 - val_mse: 0.0537\n",
      "Epoch 13/120\n",
      "357/357 [==============================] - 16s 43ms/step - loss: 0.0501 - mse: 0.0501 - val_loss: 0.0537 - val_mse: 0.0537\n",
      "Epoch 14/120\n",
      "357/357 [==============================] - 15s 41ms/step - loss: 0.0501 - mse: 0.0501 - val_loss: 0.0542 - val_mse: 0.0542\n",
      "Epoch 15/120\n",
      "357/357 [==============================] - 15s 41ms/step - loss: 0.0503 - mse: 0.0503 - val_loss: 0.0535 - val_mse: 0.0535\n",
      "Epoch 16/120\n",
      "357/357 [==============================] - 15s 42ms/step - loss: 0.0499 - mse: 0.0499 - val_loss: 0.0538 - val_mse: 0.0538\n",
      "Epoch 17/120\n",
      "357/357 [==============================] - 16s 44ms/step - loss: 0.0502 - mse: 0.0502 - val_loss: 0.0538 - val_mse: 0.0538\n",
      "Epoch 18/120\n",
      "357/357 [==============================] - 14s 39ms/step - loss: 0.0500 - mse: 0.0500 - val_loss: 0.0535 - val_mse: 0.0535\n",
      "Epoch 19/120\n",
      "357/357 [==============================] - 14s 39ms/step - loss: 0.0503 - mse: 0.0503 - val_loss: 0.0536 - val_mse: 0.0536\n",
      "Epoch 20/120\n",
      "357/357 [==============================] - 15s 43ms/step - loss: 0.0502 - mse: 0.0502 - val_loss: 0.0535 - val_mse: 0.0535\n",
      "Epoch 21/120\n",
      "357/357 [==============================] - 15s 42ms/step - loss: 0.0500 - mse: 0.0500 - val_loss: 0.0535 - val_mse: 0.0535\n",
      "Epoch 22/120\n",
      "357/357 [==============================] - 12s 35ms/step - loss: 0.0503 - mse: 0.0503 - val_loss: 0.0535 - val_mse: 0.0535\n",
      "Epoch 23/120\n",
      "357/357 [==============================] - 12s 33ms/step - loss: 0.0504 - mse: 0.0504 - val_loss: 0.0534 - val_mse: 0.0534\n",
      "Epoch 24/120\n",
      "357/357 [==============================] - 14s 39ms/step - loss: 0.0497 - mse: 0.0497 - val_loss: 0.0534 - val_mse: 0.0534\n",
      "Epoch 25/120\n",
      "357/357 [==============================] - 14s 40ms/step - loss: 0.0501 - mse: 0.0501 - val_loss: 0.0534 - val_mse: 0.0534\n",
      "Epoch 26/120\n",
      "357/357 [==============================] - 13s 37ms/step - loss: 0.0501 - mse: 0.0501 - val_loss: 0.0540 - val_mse: 0.0540\n",
      "Epoch 27/120\n",
      "357/357 [==============================] - 14s 39ms/step - loss: 0.0505 - mse: 0.0505 - val_loss: 0.0534 - val_mse: 0.0534\n",
      "Epoch 28/120\n",
      "357/357 [==============================] - 14s 38ms/step - loss: 0.0494 - mse: 0.0494 - val_loss: 0.0551 - val_mse: 0.0551\n",
      "Epoch 29/120\n",
      "357/357 [==============================] - 14s 38ms/step - loss: 0.0505 - mse: 0.0505 - val_loss: 0.0533 - val_mse: 0.0533\n",
      "Epoch 30/120\n",
      "357/357 [==============================] - 14s 38ms/step - loss: 0.0498 - mse: 0.0498 - val_loss: 0.0538 - val_mse: 0.0538\n",
      "Epoch 31/120\n",
      "357/357 [==============================] - 14s 39ms/step - loss: 0.0500 - mse: 0.0500 - val_loss: 0.0537 - val_mse: 0.0537\n",
      "Epoch 32/120\n",
      "357/357 [==============================] - 13s 38ms/step - loss: 0.0500 - mse: 0.0500 - val_loss: 0.0533 - val_mse: 0.0533\n",
      "Epoch 33/120\n",
      "357/357 [==============================] - 13s 37ms/step - loss: 0.0498 - mse: 0.0498 - val_loss: 0.0531 - val_mse: 0.0531\n",
      "Epoch 34/120\n",
      "357/357 [==============================] - 15s 41ms/step - loss: 0.0498 - mse: 0.0498 - val_loss: 0.0546 - val_mse: 0.0546\n",
      "Epoch 35/120\n",
      "357/357 [==============================] - 14s 40ms/step - loss: 0.0497 - mse: 0.0497 - val_loss: 0.0530 - val_mse: 0.0530\n",
      "Epoch 36/120\n",
      "357/357 [==============================] - 14s 40ms/step - loss: 0.0497 - mse: 0.0497 - val_loss: 0.0530 - val_mse: 0.0530\n",
      "Epoch 37/120\n",
      "357/357 [==============================] - 14s 39ms/step - loss: 0.0496 - mse: 0.0496 - val_loss: 0.0529 - val_mse: 0.0529\n",
      "Epoch 38/120\n",
      "357/357 [==============================] - 14s 39ms/step - loss: 0.0495 - mse: 0.0495 - val_loss: 0.0531 - val_mse: 0.0531\n",
      "Epoch 39/120\n",
      "357/357 [==============================] - 14s 38ms/step - loss: 0.0495 - mse: 0.0495 - val_loss: 0.0534 - val_mse: 0.0534\n",
      "Epoch 40/120\n",
      "357/357 [==============================] - 14s 39ms/step - loss: 0.0501 - mse: 0.0501 - val_loss: 0.0530 - val_mse: 0.0530\n",
      "Epoch 41/120\n",
      "357/357 [==============================] - 14s 40ms/step - loss: 0.0498 - mse: 0.0498 - val_loss: 0.0526 - val_mse: 0.0526\n",
      "Epoch 42/120\n",
      "357/357 [==============================] - 14s 40ms/step - loss: 0.0498 - mse: 0.0498 - val_loss: 0.0533 - val_mse: 0.0533\n",
      "Epoch 43/120\n",
      "357/357 [==============================] - 11s 32ms/step - loss: 0.0484 - mse: 0.0484 - val_loss: 0.0537 - val_mse: 0.0537\n",
      "Epoch 44/120\n",
      "357/357 [==============================] - 12s 32ms/step - loss: 0.0497 - mse: 0.0497 - val_loss: 0.0537 - val_mse: 0.0537\n",
      "Epoch 45/120\n",
      "357/357 [==============================] - 17s 47ms/step - loss: 0.0493 - mse: 0.0493 - val_loss: 0.0544 - val_mse: 0.0544\n",
      "Epoch 46/120\n",
      "357/357 [==============================] - 14s 40ms/step - loss: 0.0488 - mse: 0.0488 - val_loss: 0.0519 - val_mse: 0.0519\n",
      "Epoch 47/120\n",
      "357/357 [==============================] - 14s 39ms/step - loss: 0.0487 - mse: 0.0487 - val_loss: 0.0527 - val_mse: 0.0527\n",
      "Epoch 48/120\n",
      "357/357 [==============================] - 15s 41ms/step - loss: 0.0494 - mse: 0.0494 - val_loss: 0.0520 - val_mse: 0.0520\n",
      "Epoch 49/120\n",
      "357/357 [==============================] - 15s 42ms/step - loss: 0.0485 - mse: 0.0485 - val_loss: 0.0515 - val_mse: 0.0515\n",
      "Epoch 50/120\n",
      "357/357 [==============================] - 14s 39ms/step - loss: 0.0483 - mse: 0.0483 - val_loss: 0.0510 - val_mse: 0.0510\n",
      "Epoch 51/120\n",
      "357/357 [==============================] - 14s 39ms/step - loss: 0.0476 - mse: 0.0476 - val_loss: 0.0525 - val_mse: 0.0525\n",
      "Epoch 52/120\n",
      "357/357 [==============================] - 14s 40ms/step - loss: 0.0480 - mse: 0.0480 - val_loss: 0.0505 - val_mse: 0.0505\n",
      "Epoch 53/120\n",
      "357/357 [==============================] - 14s 40ms/step - loss: 0.0473 - mse: 0.0473 - val_loss: 0.0508 - val_mse: 0.0508\n",
      "Epoch 54/120\n",
      "357/357 [==============================] - 14s 40ms/step - loss: 0.0472 - mse: 0.0472 - val_loss: 0.0495 - val_mse: 0.0495\n",
      "Epoch 55/120\n",
      "357/357 [==============================] - 14s 39ms/step - loss: 0.0461 - mse: 0.0461 - val_loss: 0.0491 - val_mse: 0.0491\n",
      "Epoch 56/120\n",
      "357/357 [==============================] - 15s 41ms/step - loss: 0.0461 - mse: 0.0461 - val_loss: 0.0483 - val_mse: 0.0483\n",
      "Epoch 57/120\n",
      "357/357 [==============================] - 14s 40ms/step - loss: 0.0453 - mse: 0.0453 - val_loss: 0.0475 - val_mse: 0.0475\n",
      "Epoch 58/120\n",
      "357/357 [==============================] - 14s 40ms/step - loss: 0.0440 - mse: 0.0440 - val_loss: 0.0466 - val_mse: 0.0466\n",
      "Epoch 59/120\n",
      "357/357 [==============================] - 14s 39ms/step - loss: 0.0440 - mse: 0.0440 - val_loss: 0.0453 - val_mse: 0.0453\n",
      "Epoch 60/120\n",
      "357/357 [==============================] - 14s 39ms/step - loss: 0.0425 - mse: 0.0425 - val_loss: 0.0440 - val_mse: 0.0440\n",
      "Epoch 61/120\n",
      "357/357 [==============================] - 14s 40ms/step - loss: 0.0424 - mse: 0.0424 - val_loss: 0.0423 - val_mse: 0.0423\n",
      "Epoch 62/120\n",
      "357/357 [==============================] - 14s 40ms/step - loss: 0.0399 - mse: 0.0399 - val_loss: 0.0405 - val_mse: 0.0405\n",
      "Epoch 63/120\n",
      "357/357 [==============================] - 14s 39ms/step - loss: 0.0381 - mse: 0.0381 - val_loss: 0.0386 - val_mse: 0.0386\n",
      "Epoch 64/120\n",
      "357/357 [==============================] - 12s 35ms/step - loss: 0.0363 - mse: 0.0363 - val_loss: 0.0353 - val_mse: 0.0353\n",
      "Epoch 65/120\n",
      "357/357 [==============================] - 11s 30ms/step - loss: 0.0338 - mse: 0.0338 - val_loss: 0.0323 - val_mse: 0.0323\n",
      "Epoch 66/120\n",
      "357/357 [==============================] - 13s 36ms/step - loss: 0.0318 - mse: 0.0318 - val_loss: 0.0293 - val_mse: 0.0293\n",
      "Epoch 67/120\n",
      "357/357 [==============================] - 14s 38ms/step - loss: 0.0306 - mse: 0.0306 - val_loss: 0.0298 - val_mse: 0.0298\n",
      "Epoch 68/120\n",
      "357/357 [==============================] - 16s 44ms/step - loss: 0.0288 - mse: 0.0288 - val_loss: 0.0254 - val_mse: 0.0254\n",
      "Epoch 69/120\n",
      "357/357 [==============================] - 14s 40ms/step - loss: 0.0281 - mse: 0.0281 - val_loss: 0.0239 - val_mse: 0.0239\n",
      "Epoch 70/120\n",
      "357/357 [==============================] - 14s 39ms/step - loss: 0.0288 - mse: 0.0288 - val_loss: 0.0232 - val_mse: 0.0232\n",
      "Epoch 71/120\n",
      "357/357 [==============================] - 15s 43ms/step - loss: 0.0276 - mse: 0.0276 - val_loss: 0.0236 - val_mse: 0.0236\n",
      "Epoch 72/120\n",
      "357/357 [==============================] - 14s 40ms/step - loss: 0.0265 - mse: 0.0265 - val_loss: 0.0223 - val_mse: 0.0223\n",
      "Epoch 73/120\n",
      "357/357 [==============================] - 17s 46ms/step - loss: 0.0256 - mse: 0.0256 - val_loss: 0.0236 - val_mse: 0.0236\n",
      "Epoch 74/120\n",
      "357/357 [==============================] - 18s 51ms/step - loss: 0.0268 - mse: 0.0268 - val_loss: 0.0219 - val_mse: 0.0219\n",
      "Epoch 75/120\n",
      "357/357 [==============================] - 18s 49ms/step - loss: 0.0256 - mse: 0.0256 - val_loss: 0.0214 - val_mse: 0.0214\n",
      "Epoch 76/120\n",
      "357/357 [==============================] - 18s 51ms/step - loss: 0.0262 - mse: 0.0262 - val_loss: 0.0219 - val_mse: 0.0219\n",
      "Epoch 77/120\n",
      "357/357 [==============================] - 18s 50ms/step - loss: 0.0255 - mse: 0.0255 - val_loss: 0.0218 - val_mse: 0.0218\n",
      "Epoch 78/120\n",
      "357/357 [==============================] - 18s 50ms/step - loss: 0.0260 - mse: 0.0260 - val_loss: 0.0230 - val_mse: 0.0230\n",
      "Epoch 79/120\n",
      "357/357 [==============================] - 17s 48ms/step - loss: 0.0254 - mse: 0.0254 - val_loss: 0.0222 - val_mse: 0.0222\n",
      "Epoch 80/120\n",
      "357/357 [==============================] - 17s 49ms/step - loss: 0.0253 - mse: 0.0253 - val_loss: 0.0212 - val_mse: 0.0212\n",
      "Epoch 81/120\n",
      "357/357 [==============================] - 17s 49ms/step - loss: 0.0248 - mse: 0.0248 - val_loss: 0.0211 - val_mse: 0.0211\n",
      "Epoch 82/120\n",
      "357/357 [==============================] - 18s 49ms/step - loss: 0.0243 - mse: 0.0243 - val_loss: 0.0212 - val_mse: 0.0212\n",
      "Epoch 83/120\n",
      "357/357 [==============================] - 18s 49ms/step - loss: 0.0239 - mse: 0.0239 - val_loss: 0.0206 - val_mse: 0.0206\n",
      "Epoch 84/120\n",
      "357/357 [==============================] - 13s 36ms/step - loss: 0.0236 - mse: 0.0236 - val_loss: 0.0206 - val_mse: 0.0206\n",
      "Epoch 85/120\n",
      "357/357 [==============================] - 13s 37ms/step - loss: 0.0247 - mse: 0.0247 - val_loss: 0.0215 - val_mse: 0.0215\n",
      "Epoch 86/120\n",
      "357/357 [==============================] - 18s 51ms/step - loss: 0.0237 - mse: 0.0237 - val_loss: 0.0199 - val_mse: 0.0199\n",
      "Epoch 87/120\n",
      "357/357 [==============================] - 17s 47ms/step - loss: 0.0232 - mse: 0.0232 - val_loss: 0.0202 - val_mse: 0.0202\n",
      "Epoch 88/120\n",
      "357/357 [==============================] - 18s 51ms/step - loss: 0.0233 - mse: 0.0233 - val_loss: 0.0208 - val_mse: 0.0208\n",
      "Epoch 89/120\n",
      "357/357 [==============================] - 18s 50ms/step - loss: 0.0237 - mse: 0.0237 - val_loss: 0.0202 - val_mse: 0.0202\n",
      "Epoch 90/120\n",
      "357/357 [==============================] - 17s 49ms/step - loss: 0.0226 - mse: 0.0226 - val_loss: 0.0199 - val_mse: 0.0199\n",
      "Epoch 91/120\n",
      "357/357 [==============================] - 18s 50ms/step - loss: 0.0234 - mse: 0.0234 - val_loss: 0.0207 - val_mse: 0.0207\n",
      "Epoch 92/120\n",
      "357/357 [==============================] - 18s 51ms/step - loss: 0.0221 - mse: 0.0221 - val_loss: 0.0198 - val_mse: 0.0198\n",
      "Epoch 93/120\n",
      "357/357 [==============================] - 18s 52ms/step - loss: 0.0222 - mse: 0.0222 - val_loss: 0.0195 - val_mse: 0.0195\n",
      "Epoch 94/120\n",
      "357/357 [==============================] - 18s 51ms/step - loss: 0.0224 - mse: 0.0224 - val_loss: 0.0207 - val_mse: 0.0207\n",
      "Epoch 95/120\n",
      "357/357 [==============================] - 18s 52ms/step - loss: 0.0217 - mse: 0.0217 - val_loss: 0.0196 - val_mse: 0.0196\n",
      "Epoch 96/120\n",
      "357/357 [==============================] - 19s 52ms/step - loss: 0.0225 - mse: 0.0225 - val_loss: 0.0194 - val_mse: 0.0194\n",
      "Epoch 97/120\n",
      "357/357 [==============================] - 18s 49ms/step - loss: 0.0229 - mse: 0.0229 - val_loss: 0.0198 - val_mse: 0.0198\n",
      "Epoch 98/120\n",
      "357/357 [==============================] - 17s 47ms/step - loss: 0.0224 - mse: 0.0224 - val_loss: 0.0188 - val_mse: 0.0188\n",
      "Epoch 99/120\n",
      "357/357 [==============================] - 18s 50ms/step - loss: 0.0218 - mse: 0.0218 - val_loss: 0.0186 - val_mse: 0.0186\n",
      "Epoch 100/120\n",
      "357/357 [==============================] - 18s 49ms/step - loss: 0.0221 - mse: 0.0221 - val_loss: 0.0204 - val_mse: 0.0204\n",
      "Epoch 101/120\n",
      "357/357 [==============================] - 17s 47ms/step - loss: 0.0221 - mse: 0.0221 - val_loss: 0.0184 - val_mse: 0.0184\n",
      "Epoch 102/120\n",
      "357/357 [==============================] - 16s 46ms/step - loss: 0.0226 - mse: 0.0226 - val_loss: 0.0183 - val_mse: 0.0183\n",
      "Epoch 103/120\n",
      "357/357 [==============================] - 13s 35ms/step - loss: 0.0215 - mse: 0.0215 - val_loss: 0.0182 - val_mse: 0.0182\n",
      "Epoch 104/120\n",
      "357/357 [==============================] - 12s 32ms/step - loss: 0.0215 - mse: 0.0215 - val_loss: 0.0191 - val_mse: 0.0191\n",
      "Epoch 105/120\n",
      "357/357 [==============================] - 19s 52ms/step - loss: 0.0217 - mse: 0.0217 - val_loss: 0.0180 - val_mse: 0.0180\n",
      "Epoch 106/120\n",
      "357/357 [==============================] - 19s 52ms/step - loss: 0.0205 - mse: 0.0205 - val_loss: 0.0188 - val_mse: 0.0188\n",
      "Epoch 107/120\n",
      "357/357 [==============================] - 18s 49ms/step - loss: 0.0215 - mse: 0.0215 - val_loss: 0.0178 - val_mse: 0.0178\n",
      "Epoch 108/120\n",
      "357/357 [==============================] - 17s 47ms/step - loss: 0.0213 - mse: 0.0213 - val_loss: 0.0179 - val_mse: 0.0179\n",
      "Epoch 109/120\n",
      "357/357 [==============================] - 17s 47ms/step - loss: 0.0204 - mse: 0.0204 - val_loss: 0.0183 - val_mse: 0.0183\n",
      "Epoch 110/120\n",
      "357/357 [==============================] - 16s 46ms/step - loss: 0.0206 - mse: 0.0206 - val_loss: 0.0178 - val_mse: 0.0178\n",
      "Epoch 111/120\n",
      "357/357 [==============================] - 16s 45ms/step - loss: 0.0207 - mse: 0.0207 - val_loss: 0.0184 - val_mse: 0.0184\n",
      "Epoch 112/120\n",
      "357/357 [==============================] - 16s 45ms/step - loss: 0.0213 - mse: 0.0213 - val_loss: 0.0189 - val_mse: 0.0189\n",
      "Epoch 113/120\n",
      "357/357 [==============================] - 16s 44ms/step - loss: 0.0211 - mse: 0.0211 - val_loss: 0.0176 - val_mse: 0.0176\n",
      "Epoch 114/120\n",
      "357/357 [==============================] - 16s 46ms/step - loss: 0.0206 - mse: 0.0206 - val_loss: 0.0176 - val_mse: 0.0176\n",
      "Epoch 115/120\n",
      "357/357 [==============================] - 16s 44ms/step - loss: 0.0203 - mse: 0.0203 - val_loss: 0.0176 - val_mse: 0.0176\n",
      "Epoch 116/120\n",
      "357/357 [==============================] - 17s 47ms/step - loss: 0.0200 - mse: 0.0200 - val_loss: 0.0175 - val_mse: 0.0175\n",
      "Epoch 117/120\n",
      "357/357 [==============================] - 16s 46ms/step - loss: 0.0210 - mse: 0.0210 - val_loss: 0.0186 - val_mse: 0.0186\n",
      "Epoch 118/120\n",
      "357/357 [==============================] - 16s 44ms/step - loss: 0.0209 - mse: 0.0209 - val_loss: 0.0176 - val_mse: 0.0176\n",
      "Epoch 119/120\n",
      "357/357 [==============================] - 16s 44ms/step - loss: 0.0198 - mse: 0.0198 - val_loss: 0.0186 - val_mse: 0.0186\n",
      "Epoch 120/120\n",
      "357/357 [==============================] - 17s 49ms/step - loss: 0.0202 - mse: 0.0202 - val_loss: 0.0175 - val_mse: 0.0175\n"
     ]
    }
   ],
   "metadata": {}
  },
  {
   "cell_type": "code",
   "execution_count": 56,
   "source": [
    "plt.figure()\r\n",
    "# summarize history for accuracy\r\n",
    "#plt.subplot(211)\r\n",
    "#plt.plot(history.history['mean_squared_error'])\r\n",
    "#plt.plot(history.history['val_mean_squared_error'])\r\n",
    "#plt.title('model mean_squared_error')\r\n",
    "#plt.ylabel('mean_squared_error')\r\n",
    "#plt.xlabel('epoch')\r\n",
    "#plt.legend(['training', 'validation'], loc='upper left')\r\n",
    "#* summarize history for loss\r\n",
    "plt.subplot(212)\r\n",
    "plt.plot(history.history['loss'])\r\n",
    "plt.plot(history.history['val_loss'])\r\n",
    "plt.title('convolution model loss')\r\n",
    "plt.ylabel('loss')\r\n",
    "plt.xlabel('epoch')\r\n",
    "plt.legend(['training', 'validation'], loc='upper left')\r\n",
    "plt.tight_layout()\r\n",
    "plt.show()"
   ],
   "outputs": [
    {
     "output_type": "display_data",
     "data": {
      "text/plain": [
       "<Figure size 432x288 with 1 Axes>"
      ],
      "image/png": "[encoded data removed]"
     },
     "metadata": {
      "needs_background": "light"
     }
    }
   ],
   "metadata": {}
  },
  {
   "cell_type": "code",
   "execution_count": 57,
   "source": [
    "preds = model.predict(x_test)\r\n",
    "diff = preds.flatten() - (y_test)\r\n",
    "print(\"Mean difference\")\r\n",
    "print(\"---------------\")\r\n",
    "display(np.mean(np.abs(diff)))"
   ],
   "outputs": [
    {
     "output_type": "stream",
     "name": "stdout",
     "text": [
      "Mean difference\n",
      "---------------\n"
     ]
    },
    {
     "output_type": "display_data",
     "data": {
      "text/plain": [
       "0.11180336635142696"
      ]
     },
     "metadata": {}
    }
   ],
   "metadata": {}
  },
  {
   "cell_type": "code",
   "execution_count": 58,
   "source": [
    "model.save(\"atm4wCurModel\")"
   ],
   "outputs": [],
   "metadata": {}
  },
  {
   "cell_type": "code",
   "execution_count": 59,
   "source": [
    "#display(preds)\r\n",
    "#display(y_test)\r\n",
    "#display(diff)\r\n",
    "#CHANGE THIS LINE TO BE DEPENDENT ON numIMAGES rather than hard coded\r\n",
    "shuffledInd = np.linspace(0,89,num = 90)\r\n",
    "\r\n",
    "plt.figure()\r\n",
    "plt.scatter(shuffledInd, y_test)\r\n",
    "plt.scatter(shuffledInd, preds)\r\n",
    "plt.title(\"Predictions/Actual Comparison\")\r\n",
    "plt.ylabel(\"score\")\r\n",
    "plt.xlabel(\"image num\")\r\n",
    "plt.legend(['actual', 'prediction'], loc='upper left')\r\n",
    "#plt.subplot(212)\r\n",
    "#plt.scatter(y_test, preds)\r\n",
    "#plt.title(\"Predicted vs Actual value\")\r\n",
    "#plt.ylabel(\"predicted value\")\r\n",
    "#plt.xlabel(\"actual value\")\r\n",
    "plt.figure(figsize=(200,20))\r\n",
    "plt.show()"
   ],
   "outputs": [
    {
     "output_type": "display_data",
     "data": {
      "text/plain": [
       "<Figure size 432x288 with 1 Axes>"
      ],
      "image/png": "[encoded data removed]"
     },
     "metadata": {
      "needs_background": "light"
     }
    },
    {
     "output_type": "display_data",
     "data": {
      "text/plain": [
       "<Figure size 14400x1440 with 0 Axes>"
      ]
     },
     "metadata": {}
    }
   ],
   "metadata": {}
  },
  {
   "cell_type": "code",
   "execution_count": 60,
   "source": [
    "plt.figure()\r\n",
    "plt.scatter(y_test, preds)\r\n",
    "plt.title(\"Predicted vs Actual value\")\r\n",
    "plt.ylabel(\"predicted value\")\r\n",
    "plt.xlabel(\"actual value\")\r\n",
    "plt.axis('equal')\r\n",
    "plt.show()"
   ],
   "outputs": [
    {
     "output_type": "display_data",
     "data": {
      "text/plain": [
       "<Figure size 432x288 with 1 Axes>"
      ],
      "image/png": "[encoded data removed]"
     },
     "metadata": {
      "needs_background": "light"
     }
    }
   ],
   "metadata": {}
  },
  {
   "cell_type": "code",
   "execution_count": 61,
   "source": [
    "plt.figure()\r\n",
    "plt.scatter(y_test, diff)\r\n",
    "plt.title(\"Difference vs Actual value\")\r\n",
    "plt.ylabel(\"Difference\")\r\n",
    "plt.xlabel(\"actual value\")\r\n",
    "plt.axis('equal')\r\n",
    "plt.show()"
   ],
   "outputs": [
    {
     "output_type": "display_data",
     "data": {
      "text/plain": [
       "<Figure size 432x288 with 1 Axes>"
      ],
      "image/png": "[encoded data removed]"
     },
     "metadata": {
      "needs_background": "light"
     }
    }
   ],
   "metadata": {}
  },
  {
   "cell_type": "code",
   "execution_count": 62,
   "source": [
    "absDiff = np.abs(diff)\r\n",
    "\r\n",
    "top10 = np.argpartition(absDiff, -10)[-10:]\r\n",
    "bottom5= np.argpartition(absDiff, 5)[:5]\r\n",
    "display(top10)\r\n",
    "display(bottom5)\r\n",
    "for i in range (10):\r\n",
    "    print(\"Human Score\")\r\n",
    "    display(y_test[top10[i]])\r\n",
    "    print(\"Prediction\")\r\n",
    "    display(preds[top10[i]][0])\r\n",
    "    print(\"---------------\")"
   ],
   "outputs": [
    {
     "output_type": "display_data",
     "data": {
      "text/plain": [
       "array([80, 15, 82, 11, 73, 64, 51, 34,  4, 36])"
      ]
     },
     "metadata": {}
    },
    {
     "output_type": "display_data",
     "data": {
      "text/plain": [
       "array([70, 63, 13, 24, 45])"
      ]
     },
     "metadata": {}
    },
    {
     "output_type": "stream",
     "name": "stdout",
     "text": [
      "Human Score\n"
     ]
    },
    {
     "output_type": "display_data",
     "data": {
      "text/plain": [
       "0.918919"
      ]
     },
     "metadata": {}
    },
    {
     "output_type": "stream",
     "name": "stdout",
     "text": [
      "Prediction\n"
     ]
    },
    {
     "output_type": "display_data",
     "data": {
      "text/plain": [
       "0.65213263"
      ]
     },
     "metadata": {}
    },
    {
     "output_type": "stream",
     "name": "stdout",
     "text": [
      "---------------\n",
      "Human Score\n"
     ]
    },
    {
     "output_type": "display_data",
     "data": {
      "text/plain": [
       "0.314286"
      ]
     },
     "metadata": {}
    },
    {
     "output_type": "stream",
     "name": "stdout",
     "text": [
      "Prediction\n"
     ]
    },
    {
     "output_type": "display_data",
     "data": {
      "text/plain": [
       "0.046813402"
      ]
     },
     "metadata": {}
    },
    {
     "output_type": "stream",
     "name": "stdout",
     "text": [
      "---------------\n",
      "Human Score\n"
     ]
    },
    {
     "output_type": "display_data",
     "data": {
      "text/plain": [
       "0.285714"
      ]
     },
     "metadata": {}
    },
    {
     "output_type": "stream",
     "name": "stdout",
     "text": [
      "Prediction\n"
     ]
    },
    {
     "output_type": "display_data",
     "data": {
      "text/plain": [
       "0.5594058"
      ]
     },
     "metadata": {}
    },
    {
     "output_type": "stream",
     "name": "stdout",
     "text": [
      "---------------\n",
      "Human Score\n"
     ]
    },
    {
     "output_type": "display_data",
     "data": {
      "text/plain": [
       "0.638889"
      ]
     },
     "metadata": {}
    },
    {
     "output_type": "stream",
     "name": "stdout",
     "text": [
      "Prediction\n"
     ]
    },
    {
     "output_type": "display_data",
     "data": {
      "text/plain": [
       "0.35624546"
      ]
     },
     "metadata": {}
    },
    {
     "output_type": "stream",
     "name": "stdout",
     "text": [
      "---------------\n",
      "Human Score\n"
     ]
    },
    {
     "output_type": "display_data",
     "data": {
      "text/plain": [
       "0.235294"
      ]
     },
     "metadata": {}
    },
    {
     "output_type": "stream",
     "name": "stdout",
     "text": [
      "Prediction\n"
     ]
    },
    {
     "output_type": "display_data",
     "data": {
      "text/plain": [
       "0.5233394"
      ]
     },
     "metadata": {}
    },
    {
     "output_type": "stream",
     "name": "stdout",
     "text": [
      "---------------\n",
      "Human Score\n"
     ]
    },
    {
     "output_type": "display_data",
     "data": {
      "text/plain": [
       "0.611111"
      ]
     },
     "metadata": {}
    },
    {
     "output_type": "stream",
     "name": "stdout",
     "text": [
      "Prediction\n"
     ]
    },
    {
     "output_type": "display_data",
     "data": {
      "text/plain": [
       "0.3148391"
      ]
     },
     "metadata": {}
    },
    {
     "output_type": "stream",
     "name": "stdout",
     "text": [
      "---------------\n",
      "Human Score\n"
     ]
    },
    {
     "output_type": "display_data",
     "data": {
      "text/plain": [
       "0.648649"
      ]
     },
     "metadata": {}
    },
    {
     "output_type": "stream",
     "name": "stdout",
     "text": [
      "Prediction\n"
     ]
    },
    {
     "output_type": "display_data",
     "data": {
      "text/plain": [
       "0.3490901"
      ]
     },
     "metadata": {}
    },
    {
     "output_type": "stream",
     "name": "stdout",
     "text": [
      "---------------\n",
      "Human Score\n"
     ]
    },
    {
     "output_type": "display_data",
     "data": {
      "text/plain": [
       "0.2"
      ]
     },
     "metadata": {}
    },
    {
     "output_type": "stream",
     "name": "stdout",
     "text": [
      "Prediction\n"
     ]
    },
    {
     "output_type": "display_data",
     "data": {
      "text/plain": [
       "0.4990552"
      ]
     },
     "metadata": {}
    },
    {
     "output_type": "stream",
     "name": "stdout",
     "text": [
      "---------------\n",
      "Human Score\n"
     ]
    },
    {
     "output_type": "display_data",
     "data": {
      "text/plain": [
       "0.583333"
      ]
     },
     "metadata": {}
    },
    {
     "output_type": "stream",
     "name": "stdout",
     "text": [
      "Prediction\n"
     ]
    },
    {
     "output_type": "display_data",
     "data": {
      "text/plain": [
       "0.24541734"
      ]
     },
     "metadata": {}
    },
    {
     "output_type": "stream",
     "name": "stdout",
     "text": [
      "---------------\n",
      "Human Score\n"
     ]
    },
    {
     "output_type": "display_data",
     "data": {
      "text/plain": [
       "0.147059"
      ]
     },
     "metadata": {}
    },
    {
     "output_type": "stream",
     "name": "stdout",
     "text": [
      "Prediction\n"
     ]
    },
    {
     "output_type": "display_data",
     "data": {
      "text/plain": [
       "0.5744496"
      ]
     },
     "metadata": {}
    },
    {
     "output_type": "stream",
     "name": "stdout",
     "text": [
      "---------------\n"
     ]
    }
   ],
   "metadata": {}
  },
  {
   "cell_type": "code",
   "execution_count": 63,
   "source": [
    "plt.imshow(image.array_to_img(x_test[top10[0],:,:,:]), cmap='Greys_r') \r\n",
    "plt.show()\r\n",
    "\r\n",
    "print(\"Human Score\")\r\n",
    "display(y_test[top10[0]])\r\n",
    "print(\"Prediction\")\r\n",
    "display(preds[top10[0]][0])"
   ],
   "outputs": [
    {
     "output_type": "display_data",
     "data": {
      "text/plain": [
       "<Figure size 432x288 with 1 Axes>"
      ],
      "image/png": "[encoded data removed]"
     },
     "metadata": {
      "needs_background": "light"
     }
    },
    {
     "output_type": "stream",
     "name": "stdout",
     "text": [
      "Human Score\n"
     ]
    },
    {
     "output_type": "display_data",
     "data": {
      "text/plain": [
       "0.918919"
      ]
     },
     "metadata": {}
    },
    {
     "output_type": "stream",
     "name": "stdout",
     "text": [
      "Prediction\n"
     ]
    },
    {
     "output_type": "display_data",
     "data": {
      "text/plain": [
       "0.65213263"
      ]
     },
     "metadata": {}
    }
   ],
   "metadata": {}
  },
  {
   "cell_type": "code",
   "execution_count": 64,
   "source": [
    "plt.imshow(image.array_to_img(x_test[top10[1],:,:,:]), cmap='Greys_r') \r\n",
    "plt.show()\r\n",
    "\r\n",
    "print(\"Human Score\")\r\n",
    "display(y_test[top10[1]])\r\n",
    "print(\"Prediction\")\r\n",
    "display(preds[top10[1]][0])"
   ],
   "outputs": [
    {
     "output_type": "display_data",
     "data": {
      "text/plain": [
       "<Figure size 432x288 with 1 Axes>"
      ],
      "image/png": "[encoded data removed]"
     },
     "metadata": {
      "needs_background": "light"
     }
    },
    {
     "output_type": "stream",
     "name": "stdout",
     "text": [
      "Human Score\n"
     ]
    },
    {
     "output_type": "display_data",
     "data": {
      "text/plain": [
       "0.314286"
      ]
     },
     "metadata": {}
    },
    {
     "output_type": "stream",
     "name": "stdout",
     "text": [
      "Prediction\n"
     ]
    },
    {
     "output_type": "display_data",
     "data": {
      "text/plain": [
       "0.046813402"
      ]
     },
     "metadata": {}
    }
   ],
   "metadata": {}
  },
  {
   "cell_type": "code",
   "execution_count": 65,
   "source": [
    "plt.imshow(image.array_to_img(x_test[top10[2],:,:,:]), cmap='Greys_r') \r\n",
    "plt.show()\r\n",
    "\r\n",
    "print(\"Human Score\")\r\n",
    "display(y_test[top10[2]])\r\n",
    "print(\"Prediction\")\r\n",
    "display(preds[top10[2]][0])"
   ],
   "outputs": [
    {
     "output_type": "display_data",
     "data": {
      "text/plain": [
       "<Figure size 432x288 with 1 Axes>"
      ],
      "image/png": "[encoded data removed]"
     },
     "metadata": {
      "needs_background": "light"
     }
    },
    {
     "output_type": "stream",
     "name": "stdout",
     "text": [
      "Human Score\n"
     ]
    },
    {
     "output_type": "display_data",
     "data": {
      "text/plain": [
       "0.285714"
      ]
     },
     "metadata": {}
    },
    {
     "output_type": "stream",
     "name": "stdout",
     "text": [
      "Prediction\n"
     ]
    },
    {
     "output_type": "display_data",
     "data": {
      "text/plain": [
       "0.5594058"
      ]
     },
     "metadata": {}
    }
   ],
   "metadata": {}
  },
  {
   "cell_type": "code",
   "execution_count": 66,
   "source": [
    "plt.imshow(image.array_to_img(x_test[top10[3],:,:,:]), cmap='Greys_r') \r\n",
    "plt.show()\r\n",
    "\r\n",
    "print(\"Human Score\")\r\n",
    "display(y_test[top10[3]])\r\n",
    "print(\"Prediction\")\r\n",
    "display(preds[top10[3]][0])"
   ],
   "outputs": [
    {
     "output_type": "display_data",
     "data": {
      "text/plain": [
       "<Figure size 432x288 with 1 Axes>"
      ],
      "image/png": "[encoded data removed]"
     },
     "metadata": {
      "needs_background": "light"
     }
    },
    {
     "output_type": "stream",
     "name": "stdout",
     "text": [
      "Human Score\n"
     ]
    },
    {
     "output_type": "display_data",
     "data": {
      "text/plain": [
       "0.638889"
      ]
     },
     "metadata": {}
    },
    {
     "output_type": "stream",
     "name": "stdout",
     "text": [
      "Prediction\n"
     ]
    },
    {
     "output_type": "display_data",
     "data": {
      "text/plain": [
       "0.35624546"
      ]
     },
     "metadata": {}
    }
   ],
   "metadata": {}
  },
  {
   "cell_type": "code",
   "execution_count": 67,
   "source": [
    "plt.imshow(image.array_to_img(x_test[top10[4],:,:,:]), cmap='Greys_r') \r\n",
    "plt.show()\r\n",
    "\r\n",
    "print(\"Human Score\")\r\n",
    "display(y_test[top10[4]])\r\n",
    "print(\"Prediction\")\r\n",
    "display(preds[top10[4]][0])"
   ],
   "outputs": [
    {
     "output_type": "display_data",
     "data": {
      "text/plain": [
       "<Figure size 432x288 with 1 Axes>"
      ],
      "image/png": "[encoded data removed]"
     },
     "metadata": {
      "needs_background": "light"
     }
    },
    {
     "output_type": "stream",
     "name": "stdout",
     "text": [
      "Human Score\n"
     ]
    },
    {
     "output_type": "display_data",
     "data": {
      "text/plain": [
       "0.235294"
      ]
     },
     "metadata": {}
    },
    {
     "output_type": "stream",
     "name": "stdout",
     "text": [
      "Prediction\n"
     ]
    },
    {
     "output_type": "display_data",
     "data": {
      "text/plain": [
       "0.5233394"
      ]
     },
     "metadata": {}
    }
   ],
   "metadata": {}
  },
  {
   "cell_type": "code",
   "execution_count": 68,
   "source": [
    "plt.imshow(image.array_to_img(x_test[top10[5],:,:,:]), cmap='Greys_r') \r\n",
    "plt.show()\r\n",
    "\r\n",
    "print(\"Human Score\")\r\n",
    "display(y_test[top10[5]])\r\n",
    "print(\"Prediction\")\r\n",
    "display(preds[top10[5]][0])"
   ],
   "outputs": [
    {
     "output_type": "display_data",
     "data": {
      "text/plain": [
       "<Figure size 432x288 with 1 Axes>"
      ],
      "image/png": "[encoded data removed]"
     },
     "metadata": {
      "needs_background": "light"
     }
    },
    {
     "output_type": "stream",
     "name": "stdout",
     "text": [
      "Human Score\n"
     ]
    },
    {
     "output_type": "display_data",
     "data": {
      "text/plain": [
       "0.611111"
      ]
     },
     "metadata": {}
    },
    {
     "output_type": "stream",
     "name": "stdout",
     "text": [
      "Prediction\n"
     ]
    },
    {
     "output_type": "display_data",
     "data": {
      "text/plain": [
       "0.3148391"
      ]
     },
     "metadata": {}
    }
   ],
   "metadata": {}
  },
  {
   "cell_type": "code",
   "execution_count": 69,
   "source": [
    "plt.imshow(image.array_to_img(x_test[top10[6],:,:,:]), cmap='Greys_r') \r\n",
    "plt.show()\r\n",
    "\r\n",
    "print(\"Human Score\")\r\n",
    "display(y_test[top10[6]])\r\n",
    "print(\"Prediction\")\r\n",
    "display(preds[top10[6]][0])"
   ],
   "outputs": [
    {
     "output_type": "display_data",
     "data": {
      "text/plain": [
       "<Figure size 432x288 with 1 Axes>"
      ],
      "image/png": "[encoded data removed]"
     },
     "metadata": {
      "needs_background": "light"
     }
    },
    {
     "output_type": "stream",
     "name": "stdout",
     "text": [
      "Human Score\n"
     ]
    },
    {
     "output_type": "display_data",
     "data": {
      "text/plain": [
       "0.648649"
      ]
     },
     "metadata": {}
    },
    {
     "output_type": "stream",
     "name": "stdout",
     "text": [
      "Prediction\n"
     ]
    },
    {
     "output_type": "display_data",
     "data": {
      "text/plain": [
       "0.3490901"
      ]
     },
     "metadata": {}
    }
   ],
   "metadata": {}
  },
  {
   "cell_type": "code",
   "execution_count": 70,
   "source": [
    "plt.imshow(image.array_to_img(x_test[top10[7],:,:,:]), cmap='Greys_r') \r\n",
    "plt.show()\r\n",
    "\r\n",
    "print(\"Human Score\")\r\n",
    "display(y_test[top10[7]])\r\n",
    "print(\"Prediction\")\r\n",
    "display(preds[top10[7]][0])"
   ],
   "outputs": [
    {
     "output_type": "display_data",
     "data": {
      "text/plain": [
       "<Figure size 432x288 with 1 Axes>"
      ],
      "image/png": "[encoded data removed]"
     },
     "metadata": {
      "needs_background": "light"
     }
    },
    {
     "output_type": "stream",
     "name": "stdout",
     "text": [
      "Human Score\n"
     ]
    },
    {
     "output_type": "display_data",
     "data": {
      "text/plain": [
       "0.2"
      ]
     },
     "metadata": {}
    },
    {
     "output_type": "stream",
     "name": "stdout",
     "text": [
      "Prediction\n"
     ]
    },
    {
     "output_type": "display_data",
     "data": {
      "text/plain": [
       "0.4990552"
      ]
     },
     "metadata": {}
    }
   ],
   "metadata": {}
  },
  {
   "cell_type": "code",
   "execution_count": 71,
   "source": [
    "plt.imshow(image.array_to_img(x_test[top10[8],:,:,:]), cmap='Greys_r') \r\n",
    "plt.show()\r\n",
    "\r\n",
    "print(\"Human Score\")\r\n",
    "display(y_test[top10[8]])\r\n",
    "print(\"Prediction\")\r\n",
    "display(preds[top10[8]][0])"
   ],
   "outputs": [
    {
     "output_type": "display_data",
     "data": {
      "text/plain": [
       "<Figure size 432x288 with 1 Axes>"
      ],
      "image/png": "[encoded data removed]"
     },
     "metadata": {
      "needs_background": "light"
     }
    },
    {
     "output_type": "stream",
     "name": "stdout",
     "text": [
      "Human Score\n"
     ]
    },
    {
     "output_type": "display_data",
     "data": {
      "text/plain": [
       "0.583333"
      ]
     },
     "metadata": {}
    },
    {
     "output_type": "stream",
     "name": "stdout",
     "text": [
      "Prediction\n"
     ]
    },
    {
     "output_type": "display_data",
     "data": {
      "text/plain": [
       "0.24541734"
      ]
     },
     "metadata": {}
    }
   ],
   "metadata": {}
  },
  {
   "cell_type": "code",
   "execution_count": 72,
   "source": [
    "plt.imshow(image.array_to_img(x_test[top10[9],:,:,:]), cmap='Greys_r') \r\n",
    "plt.show()\r\n",
    "\r\n",
    "print(\"Human Score\")\r\n",
    "display(y_test[top10[9]])\r\n",
    "print(\"Prediction\")\r\n",
    "display(preds[top10[9]][0])"
   ],
   "outputs": [
    {
     "output_type": "display_data",
     "data": {
      "text/plain": [
       "<Figure size 432x288 with 1 Axes>"
      ],
      "image/png": "[encoded data removed]"
     },
     "metadata": {
      "needs_background": "light"
     }
    },
    {
     "output_type": "stream",
     "name": "stdout",
     "text": [
      "Human Score\n"
     ]
    },
    {
     "output_type": "display_data",
     "data": {
      "text/plain": [
       "0.147059"
      ]
     },
     "metadata": {}
    },
    {
     "output_type": "stream",
     "name": "stdout",
     "text": [
      "Prediction\n"
     ]
    },
    {
     "output_type": "display_data",
     "data": {
      "text/plain": [
       "0.5744496"
      ]
     },
     "metadata": {}
    }
   ],
   "metadata": {}
  },
  {
   "cell_type": "code",
   "execution_count": 73,
   "source": [
    "plt.imshow(image.array_to_img(x_test[bottom5[0],:,:,:]), cmap='Greys_r') \r\n",
    "plt.show()\r\n",
    "\r\n",
    "print(\"Human Score\")\r\n",
    "display(y_test[bottom5[0]])\r\n",
    "print(\"Prediction\")\r\n",
    "display(preds[bottom5[0]][0])"
   ],
   "outputs": [
    {
     "output_type": "display_data",
     "data": {
      "text/plain": [
       "<Figure size 432x288 with 1 Axes>"
      ],
      "image/png": "[encoded data removed]"
     },
     "metadata": {
      "needs_background": "light"
     }
    },
    {
     "output_type": "stream",
     "name": "stdout",
     "text": [
      "Human Score\n"
     ]
    },
    {
     "output_type": "display_data",
     "data": {
      "text/plain": [
       "0.205882"
      ]
     },
     "metadata": {}
    },
    {
     "output_type": "stream",
     "name": "stdout",
     "text": [
      "Prediction\n"
     ]
    },
    {
     "output_type": "display_data",
     "data": {
      "text/plain": [
       "0.20354782"
      ]
     },
     "metadata": {}
    }
   ],
   "metadata": {}
  },
  {
   "cell_type": "code",
   "execution_count": 74,
   "source": [
    "plt.imshow(image.array_to_img(x_test[bottom5[1],:,:,:]), cmap='Greys_r') \r\n",
    "plt.show()\r\n",
    "\r\n",
    "print(\"Human Score\")\r\n",
    "display(y_test[bottom5[1]])\r\n",
    "print(\"Prediction\")\r\n",
    "display(preds[bottom5[1]][0])"
   ],
   "outputs": [
    {
     "output_type": "display_data",
     "data": {
      "text/plain": [
       "<Figure size 432x288 with 1 Axes>"
      ],
      "image/png": "[encoded data removed]"
     },
     "metadata": {
      "needs_background": "light"
     }
    },
    {
     "output_type": "stream",
     "name": "stdout",
     "text": [
      "Human Score\n"
     ]
    },
    {
     "output_type": "display_data",
     "data": {
      "text/plain": [
       "0.171429"
      ]
     },
     "metadata": {}
    },
    {
     "output_type": "stream",
     "name": "stdout",
     "text": [
      "Prediction\n"
     ]
    },
    {
     "output_type": "display_data",
     "data": {
      "text/plain": [
       "0.16949412"
      ]
     },
     "metadata": {}
    }
   ],
   "metadata": {}
  },
  {
   "cell_type": "code",
   "execution_count": 75,
   "source": [
    "plt.imshow(image.array_to_img(x_test[bottom5[2],:,:,:]), cmap='Greys_r') \r\n",
    "plt.show()\r\n",
    "\r\n",
    "print(\"Human Score\")\r\n",
    "display(y_test[bottom5[2]])\r\n",
    "print(\"Prediction\")\r\n",
    "display(preds[bottom5[2]][0])"
   ],
   "outputs": [
    {
     "output_type": "display_data",
     "data": {
      "text/plain": [
       "<Figure size 432x288 with 1 Axes>"
      ],
      "image/png": "[encoded data removed]"
     },
     "metadata": {
      "needs_background": "light"
     }
    },
    {
     "output_type": "stream",
     "name": "stdout",
     "text": [
      "Human Score\n"
     ]
    },
    {
     "output_type": "display_data",
     "data": {
      "text/plain": [
       "0.609524"
      ]
     },
     "metadata": {}
    },
    {
     "output_type": "stream",
     "name": "stdout",
     "text": [
      "Prediction\n"
     ]
    },
    {
     "output_type": "display_data",
     "data": {
      "text/plain": [
       "0.6088861"
      ]
     },
     "metadata": {}
    }
   ],
   "metadata": {}
  },
  {
   "cell_type": "code",
   "execution_count": 76,
   "source": [
    "plt.imshow(image.array_to_img(x_test[bottom5[3],:,:,:]), cmap='Greys_r') \r\n",
    "plt.show()\r\n",
    "\r\n",
    "print(\"Human Score\")\r\n",
    "display(y_test[bottom5[3]])\r\n",
    "print(\"Prediction\")\r\n",
    "display(preds[bottom5[3]][0])"
   ],
   "outputs": [
    {
     "output_type": "display_data",
     "data": {
      "text/plain": [
       "<Figure size 432x288 with 1 Axes>"
      ],
      "image/png": "[encoded data removed]"
     },
     "metadata": {
      "needs_background": "light"
     }
    },
    {
     "output_type": "stream",
     "name": "stdout",
     "text": [
      "Human Score\n"
     ]
    },
    {
     "output_type": "display_data",
     "data": {
      "text/plain": [
       "0.594595"
      ]
     },
     "metadata": {}
    },
    {
     "output_type": "stream",
     "name": "stdout",
     "text": [
      "Prediction\n"
     ]
    },
    {
     "output_type": "display_data",
     "data": {
      "text/plain": [
       "0.59413564"
      ]
     },
     "metadata": {}
    }
   ],
   "metadata": {}
  },
  {
   "cell_type": "code",
   "execution_count": 77,
   "source": [
    "plt.imshow(image.array_to_img(x_test[bottom5[4],:,:,:]), cmap='Greys_r') \r\n",
    "plt.show()\r\n",
    "\r\n",
    "print(\"Human Score\")\r\n",
    "display(y_test[bottom5[4]])\r\n",
    "print(\"Prediction\")\r\n",
    "display(preds[bottom5[4]][0])"
   ],
   "outputs": [
    {
     "output_type": "display_data",
     "data": {
      "text/plain": [
       "<Figure size 432x288 with 1 Axes>"
      ],
      "image/png": "[encoded data removed]"
     },
     "metadata": {
      "needs_background": "light"
     }
    },
    {
     "output_type": "stream",
     "name": "stdout",
     "text": [
      "Human Score\n"
     ]
    },
    {
     "output_type": "display_data",
     "data": {
      "text/plain": [
       "0.264706"
      ]
     },
     "metadata": {}
    },
    {
     "output_type": "stream",
     "name": "stdout",
     "text": [
      "Prediction\n"
     ]
    },
    {
     "output_type": "display_data",
     "data": {
      "text/plain": [
       "0.26391497"
      ]
     },
     "metadata": {}
    }
   ],
   "metadata": {}
  },
  {
   "cell_type": "code",
   "execution_count": 78,
   "source": [
    "maxPred = np.amax(preds, axis=0)\r\n",
    "maxPredIndex = np.where(preds == maxPred)\r\n",
    "display(maxPred[0])\r\n",
    "display(maxPredIndex[0][0])"
   ],
   "outputs": [
    {
     "output_type": "display_data",
     "data": {
      "text/plain": [
       "0.67435354"
      ]
     },
     "metadata": {}
    },
    {
     "output_type": "display_data",
     "data": {
      "text/plain": [
       "71"
      ]
     },
     "metadata": {}
    }
   ],
   "metadata": {}
  },
  {
   "cell_type": "code",
   "execution_count": 79,
   "source": [
    "plt.imshow(image.array_to_img(x_test[maxPredIndex[0][0],:,:,:]), cmap='Greys_r') \r\n",
    "plt.show()\r\n",
    "\r\n",
    "print(\"Human Score\")\r\n",
    "display(y_test[maxPredIndex[0][0]])\r\n",
    "print(\"Prediction\")\r\n",
    "display(preds[maxPredIndex[0][0]][0])"
   ],
   "outputs": [
    {
     "output_type": "display_data",
     "data": {
      "text/plain": [
       "<Figure size 432x288 with 1 Axes>"
      ],
      "image/png": "[encoded data removed]"
     },
     "metadata": {
      "needs_background": "light"
     }
    },
    {
     "output_type": "stream",
     "name": "stdout",
     "text": [
      "Human Score\n"
     ]
    },
    {
     "output_type": "display_data",
     "data": {
      "text/plain": [
       "0.861111"
      ]
     },
     "metadata": {}
    },
    {
     "output_type": "stream",
     "name": "stdout",
     "text": [
      "Prediction\n"
     ]
    },
    {
     "output_type": "display_data",
     "data": {
      "text/plain": [
       "0.67435354"
      ]
     },
     "metadata": {}
    }
   ],
   "metadata": {}
  }
 ],
 "metadata": {
  "kernelspec": {
   "display_name": "Python 3",
   "language": "python",
   "name": "python3"
  },
  "language_info": {
   "codemirror_mode": {
    "name": "ipython",
    "version": 3
   },
   "file_extension": ".py",
   "mimetype": "text/x-python",
   "name": "python",
   "nbconvert_exporter": "python",
   "pygments_lexer": "ipython3",
   "version": "3.7.6"
  }
 },
 "nbformat": 4,
 "nbformat_minor": 4
}