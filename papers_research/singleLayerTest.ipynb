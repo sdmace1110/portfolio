{
 "cells": [
  {
   "cell_type": "code",
   "execution_count": 4,
   "source": [
    "import keras\r\n",
    "from keras import backend as K\r\n",
    "import numpy as np\r\n",
    "import matplotlib.pyplot as plt\r\n",
    "from mpl_toolkits.mplot3d import axes3d\r\n",
    "%matplotlib inline\r\n",
    "from IPython.display import display"
   ],
   "outputs": [
    {
     "output_type": "stream",
     "name": "stderr",
     "text": [
      "Using TensorFlow backend.\n"
     ]
    }
   ],
   "metadata": {}
  },
  {
   "cell_type": "code",
   "execution_count": 5,
   "source": [
    "from keras.preprocessing import image\r\n",
    "from keras.applications.xception import preprocess_input, decode_predictions"
   ],
   "outputs": [],
   "metadata": {}
  },
  {
   "cell_type": "code",
   "execution_count": 45,
   "source": [
    "def grab_image_flatten(img_path_base, index, numImages):\r\n",
    "    #Desired image dimension (image will be square ie # by # pixels)\r\n",
    "    imageDim = 100\r\n",
    "    \r\n",
    "    if (index<10):\r\n",
    "        img_path = img_path_base+\"000\"+str(index)+\"_model.png\"\r\n",
    "    elif (index<100 and index >=10):\r\n",
    "        img_path = img_path_base+\"00\"+str(index)+\"_model.png\"\r\n",
    "    elif (index<1000 and index>=100):\r\n",
    "        img_path = img_path_base+\"0\"+str(index)+\"_model.png\"\r\n",
    "    elif (index<10000 and index>=1000):\r\n",
    "        img_path = img_path_base+str(index)+\"_model.png\"\r\n",
    "        \r\n",
    "    img = image.load_img(img_path, target_size=(imageDim, imageDim), color_mode = \"grayscale\")\r\n",
    "    x = image.img_to_array(img)\r\n",
    "    x = x.flatten()\r\n",
    "    x = np.expand_dims(x, axis=0)\r\n",
    "    x = preprocess_input(x)\r\n",
    "    return x\r\n",
    "\r\n",
    "def grab_image_full(img_path_base, index, numImages):\r\n",
    "    #Desired image dimension (image will be square ie # by # pixels)\r\n",
    "    imageDim = 100\r\n",
    "    \r\n",
    "    if (index<10):\r\n",
    "        img_path = img_path_base+\"000\"+str(index)+\"_model.png\"\r\n",
    "    elif (index<100 and index >=10):\r\n",
    "        img_path = img_path_base+\"00\"+str(index)+\"_model.png\"\r\n",
    "    elif (index<1000 and index>=100):\r\n",
    "        img_path = img_path_base+\"0\"+str(index)+\"_model.png\"\r\n",
    "    elif (index<10000 and index>=1000):\r\n",
    "        img_path = img_path_base+str(index)+\"_model.png\"\r\n",
    "        \r\n",
    "    img = image.load_img(img_path, target_size=(imageDim, imageDim), color_mode = \"grayscale\")\r\n",
    "    x = image.img_to_array(img)\r\n",
    "    x = np.expand_dims(x, axis=0)\r\n",
    "    x = preprocess_input(x)\r\n",
    "    return x\r\n",
    "\r\n",
    "#Num of images to read in\r\n",
    "numImages = 600\r\n",
    "X = np.concatenate([grab_image_flatten('/home/atm4w/Project/Data/miscImgs/',i, numImages) for i in range(numImages)]) \r\n",
    "X /= 255.0\r\n",
    "Xoriginal = np.concatenate([grab_image_full('/home/atm4w/Project/Data/miscImgs/',i, numImages) for i in range(numImages)]) \r\n",
    "Xoriginal /= 255.0\r\n",
    "\r\n",
    "display(X.shape)\r\n",
    "display(Xoriginal.shape)"
   ],
   "outputs": [
    {
     "output_type": "display_data",
     "data": {
      "text/plain": [
       "(600, 10000)"
      ]
     },
     "metadata": {}
    },
    {
     "output_type": "display_data",
     "data": {
      "text/plain": [
       "(600, 100, 100, 1)"
      ]
     },
     "metadata": {}
    }
   ],
   "metadata": {}
  },
  {
   "cell_type": "code",
   "execution_count": 46,
   "source": [
    "Y = np.loadtxt('/home/atm4w/Project/Data/miscImgs/scores/humanScores.txt')\r\n",
    "display(Y.shape)\r\n",
    "display(Y[0:10])"
   ],
   "outputs": [
    {
     "output_type": "display_data",
     "data": {
      "text/plain": [
       "(1294,)"
      ]
     },
     "metadata": {}
    },
    {
     "output_type": "display_data",
     "data": {
      "text/plain": [
       "array([0.945946, 0.941176, 0.918919, 0.916667, 0.916667, 0.914286,\n",
       "       0.914286, 0.911765, 0.891892, 0.885714])"
      ]
     },
     "metadata": {}
    }
   ],
   "metadata": {}
  },
  {
   "cell_type": "code",
   "execution_count": 47,
   "source": [
    "p = np.random.permutation(len(X))\r\n",
    "X_original_shuffled = Xoriginal[p]\r\n",
    "Xshuffled = X[p]\r\n",
    "Yshuffled = Y[p]\r\n",
    "\r\n",
    "display(X_original_shuffled.shape)\r\n",
    "display(Xshuffled.shape)\r\n",
    "display(Yshuffled.shape)"
   ],
   "outputs": [
    {
     "output_type": "display_data",
     "data": {
      "text/plain": [
       "(600, 100, 100, 1)"
      ]
     },
     "metadata": {}
    },
    {
     "output_type": "display_data",
     "data": {
      "text/plain": [
       "(600, 10000)"
      ]
     },
     "metadata": {}
    },
    {
     "output_type": "display_data",
     "data": {
      "text/plain": [
       "(600,)"
      ]
     },
     "metadata": {}
    }
   ],
   "metadata": {}
  },
  {
   "cell_type": "code",
   "execution_count": 48,
   "source": [
    "x_train = Xshuffled[0:(round(numImages*.85)),:]\r\n",
    "y_train = Yshuffled[0:(round(numImages*.85))]\r\n",
    "x_original_train = X_original_shuffled[0:(round(numImages*.85)),:,:]\r\n",
    "x_test = Xshuffled[(round(numImages*.85)): , :]\r\n",
    "y_test = Yshuffled[(round(numImages*.85)):]\r\n",
    "x_original_test = X_original_shuffled[(round(numImages*.85)): , : , :]\r\n",
    "\r\n",
    "display(x_train.shape)\r\n",
    "display(y_train.shape)\r\n",
    "display(x_original_train.shape)\r\n",
    "display(x_test.shape)\r\n",
    "display(y_test.shape)\r\n",
    "display(x_original_test.shape)"
   ],
   "outputs": [
    {
     "output_type": "display_data",
     "data": {
      "text/plain": [
       "(510, 10000)"
      ]
     },
     "metadata": {}
    },
    {
     "output_type": "display_data",
     "data": {
      "text/plain": [
       "(510,)"
      ]
     },
     "metadata": {}
    },
    {
     "output_type": "display_data",
     "data": {
      "text/plain": [
       "(510, 100, 100, 1)"
      ]
     },
     "metadata": {}
    },
    {
     "output_type": "display_data",
     "data": {
      "text/plain": [
       "(90, 10000)"
      ]
     },
     "metadata": {}
    },
    {
     "output_type": "display_data",
     "data": {
      "text/plain": [
       "(90,)"
      ]
     },
     "metadata": {}
    },
    {
     "output_type": "display_data",
     "data": {
      "text/plain": [
       "(90, 100, 100, 1)"
      ]
     },
     "metadata": {}
    }
   ],
   "metadata": {}
  },
  {
   "cell_type": "code",
   "execution_count": 49,
   "source": [
    "model = keras.Sequential()\r\n",
    "\r\n",
    "input_size = x_train.shape[1]\r\n",
    "model.add(keras.layers.Dense(1, activation='sigmoid', input_shape=[input_size]))\r\n",
    "\r\n",
    "model.compile(loss=keras.losses.mean_squared_error, optimizer=keras.optimizers.Adam(learning_rate=0.01), metrics=['mse'])\r\n",
    "model.summary()"
   ],
   "outputs": [
    {
     "output_type": "stream",
     "name": "stdout",
     "text": [
      "Model: \"sequential_2\"\n",
      "_________________________________________________________________\n",
      "Layer (type)                 Output Shape              Param #   \n",
      "=================================================================\n",
      "dense_2 (Dense)              (None, 1)                 10001     \n",
      "=================================================================\n",
      "Total params: 10,001\n",
      "Trainable params: 10,001\n",
      "Non-trainable params: 0\n",
      "_________________________________________________________________\n"
     ]
    }
   ],
   "metadata": {}
  },
  {
   "cell_type": "code",
   "execution_count": 50,
   "source": [
    "batch_size = 10\r\n",
    "epochs = 250\r\n",
    "history = model.fit(x_train, y_train,\r\n",
    "    batch_size=batch_size,\r\n",
    "    epochs=epochs,\r\n",
    "    verbose=0,\r\n",
    "    validation_split = 0.3)"
   ],
   "outputs": [],
   "metadata": {}
  },
  {
   "cell_type": "code",
   "execution_count": 52,
   "source": [
    "plt.figure()\r\n",
    "#* summarize history for loss\r\n",
    "plt.subplot(212)\r\n",
    "plt.plot(history.history['loss'])\r\n",
    "plt.plot(history.history['val_loss'])\r\n",
    "plt.title('single layer model loss')\r\n",
    "plt.ylabel('loss')\r\n",
    "plt.xlabel('epoch')\r\n",
    "plt.legend(['training', 'validation'], loc='upper left')\r\n",
    "plt.tight_layout()\r\n",
    "plt.show()"
   ],
   "outputs": [
    {
     "output_type": "display_data",
     "data": {
      "text/plain": [
       "<Figure size 432x288 with 1 Axes>"
      ],
      "image/png": "[encoded data removed]"
     },
     "metadata": {
      "needs_background": "light"
     }
    }
   ],
   "metadata": {}
  },
  {
   "cell_type": "code",
   "execution_count": 53,
   "source": [
    "loss = history.history['loss']\r\n",
    "val_loss = history.history['val_loss']\r\n",
    "print(\"Training loss final\")\r\n",
    "print(loss[-1])\r\n",
    "print(\"Validation loss final\")\r\n",
    "print(val_loss[-1])"
   ],
   "outputs": [
    {
     "output_type": "stream",
     "name": "stdout",
     "text": [
      "Training loss final\n",
      "0.009963299730839599\n",
      "Validation loss final\n",
      "0.024765239431967144\n"
     ]
    }
   ],
   "metadata": {}
  },
  {
   "cell_type": "code",
   "execution_count": 54,
   "source": [
    "preds = model.predict(x_test)\r\n",
    "diff = preds.flatten() - (y_test)\r\n",
    "print(\"Mean difference\")\r\n",
    "print(\"---------------\")\r\n",
    "display(np.mean(np.abs(diff)))"
   ],
   "outputs": [
    {
     "output_type": "stream",
     "name": "stdout",
     "text": [
      "Mean difference\n",
      "---------------\n"
     ]
    },
    {
     "output_type": "display_data",
     "data": {
      "text/plain": [
       "0.10909678202708031"
      ]
     },
     "metadata": {}
    }
   ],
   "metadata": {}
  },
  {
   "cell_type": "code",
   "execution_count": 55,
   "source": [
    "#display(preds)\r\n",
    "#display(y_test)\r\n",
    "#display(diff)\r\n",
    "shuffledInd = np.linspace(0,(numImages-round(numImages*.85))-1,num = numImages-(round(numImages*.85)))\r\n",
    "\r\n",
    "plt.figure()\r\n",
    "plt.scatter(shuffledInd, y_test)\r\n",
    "plt.scatter(shuffledInd, preds)\r\n",
    "plt.title(\"Predictions/Actual Comparison\")\r\n",
    "plt.ylabel(\"score\")\r\n",
    "plt.xlabel(\"image num\")\r\n",
    "plt.legend(['actual', 'prediction'], loc='upper left')\r\n",
    "#plt.subplot(212)\r\n",
    "#plt.scatter(y_test, preds)\r\n",
    "#plt.title(\"Predicted vs Actual value\")\r\n",
    "#plt.ylabel(\"predicted value\")\r\n",
    "#plt.xlabel(\"actual value\")\r\n",
    "plt.figure(figsize=(200,20))\r\n",
    "plt.show()"
   ],
   "outputs": [
    {
     "output_type": "display_data",
     "data": {
      "text/plain": [
       "<Figure size 432x288 with 1 Axes>"
      ],
      "image/png": "[encoded data removed]"
     },
     "metadata": {
      "needs_background": "light"
     }
    },
    {
     "output_type": "display_data",
     "data": {
      "text/plain": [
       "<Figure size 14400x1440 with 0 Axes>"
      ]
     },
     "metadata": {}
    }
   ],
   "metadata": {}
  },
  {
   "cell_type": "code",
   "execution_count": 56,
   "source": [
    "plt.figure()\r\n",
    "plt.scatter(y_test, preds)\r\n",
    "plt.title(\"Predicted vs Actual value\")\r\n",
    "plt.ylabel(\"predicted value\")\r\n",
    "plt.xlabel(\"actual value\")\r\n",
    "plt.axis('equal')\r\n",
    "plt.show()"
   ],
   "outputs": [
    {
     "output_type": "display_data",
     "data": {
      "text/plain": [
       "<Figure size 432x288 with 1 Axes>"
      ],
      "image/png": "[encoded data removed]"
     },
     "metadata": {
      "needs_background": "light"
     }
    }
   ],
   "metadata": {}
  },
  {
   "cell_type": "code",
   "execution_count": 57,
   "source": [
    "plt.figure()\r\n",
    "plt.scatter(y_test, diff)\r\n",
    "plt.title(\"Difference vs Actual value\")\r\n",
    "plt.ylabel(\"Difference\")\r\n",
    "plt.xlabel(\"actual value\")\r\n",
    "plt.axis('equal')\r\n",
    "plt.show()"
   ],
   "outputs": [
    {
     "output_type": "display_data",
     "data": {
      "text/plain": [
       "<Figure size 432x288 with 1 Axes>"
      ],
      "image/png": "[encoded data removed]"
     },
     "metadata": {
      "needs_background": "light"
     }
    }
   ],
   "metadata": {}
  },
  {
   "cell_type": "code",
   "execution_count": 58,
   "source": [
    "absDiff = np.abs(diff)\r\n",
    "\r\n",
    "top10 = np.argpartition(absDiff, -10)[-10:]\r\n",
    "bottom5= np.argpartition(absDiff, 5)[:5]\r\n",
    "display(top10)\r\n",
    "display(bottom5)\r\n",
    "for i in range (10):\r\n",
    "    print(\"Human Score\")\r\n",
    "    display(y_test[top10[i]])\r\n",
    "    print(\"Prediction\")\r\n",
    "    display(preds[top10[i]][0])\r\n",
    "    print(\"---------------\")"
   ],
   "outputs": [
    {
     "output_type": "display_data",
     "data": {
      "text/plain": [
       "array([77,  0, 72, 31, 57, 47, 23, 87, 36, 29])"
      ]
     },
     "metadata": {}
    },
    {
     "output_type": "display_data",
     "data": {
      "text/plain": [
       "array([81, 35, 64, 44, 14])"
      ]
     },
     "metadata": {}
    },
    {
     "output_type": "stream",
     "name": "stdout",
     "text": [
      "Human Score\n"
     ]
    },
    {
     "output_type": "display_data",
     "data": {
      "text/plain": [
       "0.571429"
      ]
     },
     "metadata": {}
    },
    {
     "output_type": "stream",
     "name": "stdout",
     "text": [
      "Prediction\n"
     ]
    },
    {
     "output_type": "display_data",
     "data": {
      "text/plain": [
       "0.3238755"
      ]
     },
     "metadata": {}
    },
    {
     "output_type": "stream",
     "name": "stdout",
     "text": [
      "---------------\n",
      "Human Score\n"
     ]
    },
    {
     "output_type": "display_data",
     "data": {
      "text/plain": [
       "0.333333"
      ]
     },
     "metadata": {}
    },
    {
     "output_type": "stream",
     "name": "stdout",
     "text": [
      "Prediction\n"
     ]
    },
    {
     "output_type": "display_data",
     "data": {
      "text/plain": [
       "0.60449827"
      ]
     },
     "metadata": {}
    },
    {
     "output_type": "stream",
     "name": "stdout",
     "text": [
      "---------------\n",
      "Human Score\n"
     ]
    },
    {
     "output_type": "display_data",
     "data": {
      "text/plain": [
       "0.628571"
      ]
     },
     "metadata": {}
    },
    {
     "output_type": "stream",
     "name": "stdout",
     "text": [
      "Prediction\n"
     ]
    },
    {
     "output_type": "display_data",
     "data": {
      "text/plain": [
       "0.34642988"
      ]
     },
     "metadata": {}
    },
    {
     "output_type": "stream",
     "name": "stdout",
     "text": [
      "---------------\n",
      "Human Score\n"
     ]
    },
    {
     "output_type": "display_data",
     "data": {
      "text/plain": [
       "0.189189"
      ]
     },
     "metadata": {}
    },
    {
     "output_type": "stream",
     "name": "stdout",
     "text": [
      "Prediction\n"
     ]
    },
    {
     "output_type": "display_data",
     "data": {
      "text/plain": [
       "0.4984533"
      ]
     },
     "metadata": {}
    },
    {
     "output_type": "stream",
     "name": "stdout",
     "text": [
      "---------------\n",
      "Human Score\n"
     ]
    },
    {
     "output_type": "display_data",
     "data": {
      "text/plain": [
       "0.257143"
      ]
     },
     "metadata": {}
    },
    {
     "output_type": "stream",
     "name": "stdout",
     "text": [
      "Prediction\n"
     ]
    },
    {
     "output_type": "display_data",
     "data": {
      "text/plain": [
       "0.5484176"
      ]
     },
     "metadata": {}
    },
    {
     "output_type": "stream",
     "name": "stdout",
     "text": [
      "---------------\n",
      "Human Score\n"
     ]
    },
    {
     "output_type": "display_data",
     "data": {
      "text/plain": [
       "0.342857"
      ]
     },
     "metadata": {}
    },
    {
     "output_type": "stream",
     "name": "stdout",
     "text": [
      "Prediction\n"
     ]
    },
    {
     "output_type": "display_data",
     "data": {
      "text/plain": [
       "0.6477901"
      ]
     },
     "metadata": {}
    },
    {
     "output_type": "stream",
     "name": "stdout",
     "text": [
      "---------------\n",
      "Human Score\n"
     ]
    },
    {
     "output_type": "display_data",
     "data": {
      "text/plain": [
       "0.705882"
      ]
     },
     "metadata": {}
    },
    {
     "output_type": "stream",
     "name": "stdout",
     "text": [
      "Prediction\n"
     ]
    },
    {
     "output_type": "display_data",
     "data": {
      "text/plain": [
       "0.4170678"
      ]
     },
     "metadata": {}
    },
    {
     "output_type": "stream",
     "name": "stdout",
     "text": [
      "---------------\n",
      "Human Score\n"
     ]
    },
    {
     "output_type": "display_data",
     "data": {
      "text/plain": [
       "0.285714"
      ]
     },
     "metadata": {}
    },
    {
     "output_type": "stream",
     "name": "stdout",
     "text": [
      "Prediction\n"
     ]
    },
    {
     "output_type": "display_data",
     "data": {
      "text/plain": [
       "0.59261274"
      ]
     },
     "metadata": {}
    },
    {
     "output_type": "stream",
     "name": "stdout",
     "text": [
      "---------------\n",
      "Human Score\n"
     ]
    },
    {
     "output_type": "display_data",
     "data": {
      "text/plain": [
       "0.088235"
      ]
     },
     "metadata": {}
    },
    {
     "output_type": "stream",
     "name": "stdout",
     "text": [
      "Prediction\n"
     ]
    },
    {
     "output_type": "display_data",
     "data": {
      "text/plain": [
       "0.47396162"
      ]
     },
     "metadata": {}
    },
    {
     "output_type": "stream",
     "name": "stdout",
     "text": [
      "---------------\n",
      "Human Score\n"
     ]
    },
    {
     "output_type": "display_data",
     "data": {
      "text/plain": [
       "0.142857"
      ]
     },
     "metadata": {}
    },
    {
     "output_type": "stream",
     "name": "stdout",
     "text": [
      "Prediction\n"
     ]
    },
    {
     "output_type": "display_data",
     "data": {
      "text/plain": [
       "0.5189878"
      ]
     },
     "metadata": {}
    },
    {
     "output_type": "stream",
     "name": "stdout",
     "text": [
      "---------------\n"
     ]
    }
   ],
   "metadata": {}
  },
  {
   "cell_type": "code",
   "execution_count": 19,
   "source": [
    "plt.imshow(image.array_to_img(x_original_test[top10[0],:,:,:]), cmap='Greys_r') \r\n",
    "plt.show()\r\n",
    "\r\n",
    "print(\"Human Score\")\r\n",
    "display(y_test[top10[0]])\r\n",
    "print(\"Prediction\")\r\n",
    "display(preds[top10[0]][0])"
   ],
   "outputs": [
    {
     "output_type": "display_data",
     "data": {
      "text/plain": [
       "<Figure size 432x288 with 1 Axes>"
      ],
      "image/png": "[encoded data removed]"
     },
     "metadata": {
      "needs_background": "light"
     }
    },
    {
     "output_type": "stream",
     "name": "stdout",
     "text": [
      "Human Score\n"
     ]
    },
    {
     "output_type": "display_data",
     "data": {
      "text/plain": [
       "0.675676"
      ]
     },
     "metadata": {}
    },
    {
     "output_type": "stream",
     "name": "stdout",
     "text": [
      "Prediction\n"
     ]
    },
    {
     "output_type": "display_data",
     "data": {
      "text/plain": [
       "0.47924867"
      ]
     },
     "metadata": {}
    }
   ],
   "metadata": {}
  },
  {
   "cell_type": "code",
   "execution_count": 20,
   "source": [
    "plt.imshow(image.array_to_img(x_original_test[top10[1],:,:,:]), cmap='Greys_r') \r\n",
    "plt.show()\r\n",
    "\r\n",
    "print(\"Human Score\")\r\n",
    "display(y_test[top10[1]])\r\n",
    "print(\"Prediction\")\r\n",
    "display(preds[top10[1]][0])"
   ],
   "outputs": [
    {
     "output_type": "display_data",
     "data": {
      "text/plain": [
       "<Figure size 432x288 with 1 Axes>"
      ],
      "image/png": "[encoded data removed]"
     },
     "metadata": {
      "needs_background": "light"
     }
    },
    {
     "output_type": "stream",
     "name": "stdout",
     "text": [
      "Human Score\n"
     ]
    },
    {
     "output_type": "display_data",
     "data": {
      "text/plain": [
       "0.388889"
      ]
     },
     "metadata": {}
    },
    {
     "output_type": "stream",
     "name": "stdout",
     "text": [
      "Prediction\n"
     ]
    },
    {
     "output_type": "display_data",
     "data": {
      "text/plain": [
       "0.19030757"
      ]
     },
     "metadata": {}
    }
   ],
   "metadata": {}
  },
  {
   "cell_type": "code",
   "execution_count": 21,
   "source": [
    "plt.imshow(image.array_to_img(x_original_test[top10[2],:,:,:]), cmap='Greys_r') \r\n",
    "plt.show()\r\n",
    "\r\n",
    "print(\"Human Score\")\r\n",
    "display(y_test[top10[2]])\r\n",
    "print(\"Prediction\")\r\n",
    "display(preds[top10[2]][0])"
   ],
   "outputs": [
    {
     "output_type": "display_data",
     "data": {
      "text/plain": [
       "<Figure size 432x288 with 1 Axes>"
      ],
      "image/png": "[encoded data removed]"
     },
     "metadata": {
      "needs_background": "light"
     }
    },
    {
     "output_type": "stream",
     "name": "stdout",
     "text": [
      "Human Score\n"
     ]
    },
    {
     "output_type": "display_data",
     "data": {
      "text/plain": [
       "0.205882"
      ]
     },
     "metadata": {}
    },
    {
     "output_type": "stream",
     "name": "stdout",
     "text": [
      "Prediction\n"
     ]
    },
    {
     "output_type": "display_data",
     "data": {
      "text/plain": [
       "0.41685623"
      ]
     },
     "metadata": {}
    }
   ],
   "metadata": {}
  },
  {
   "cell_type": "code",
   "execution_count": 22,
   "source": [
    "plt.imshow(image.array_to_img(x_original_test[top10[3],:,:,:]), cmap='Greys_r') \r\n",
    "plt.show()\r\n",
    "\r\n",
    "print(\"Human Score\")\r\n",
    "display(y_test[top10[3]])\r\n",
    "print(\"Prediction\")\r\n",
    "display(preds[top10[3]][0])"
   ],
   "outputs": [
    {
     "output_type": "display_data",
     "data": {
      "text/plain": [
       "<Figure size 432x288 with 1 Axes>"
      ],
      "image/png": "[encoded data removed]"
     },
     "metadata": {
      "needs_background": "light"
     }
    },
    {
     "output_type": "stream",
     "name": "stdout",
     "text": [
      "Human Score\n"
     ]
    },
    {
     "output_type": "display_data",
     "data": {
      "text/plain": [
       "0.72973"
      ]
     },
     "metadata": {}
    },
    {
     "output_type": "stream",
     "name": "stdout",
     "text": [
      "Prediction\n"
     ]
    },
    {
     "output_type": "display_data",
     "data": {
      "text/plain": [
       "0.5134819"
      ]
     },
     "metadata": {}
    }
   ],
   "metadata": {}
  },
  {
   "cell_type": "code",
   "execution_count": 23,
   "source": [
    "plt.imshow(image.array_to_img(x_original_test[top10[4],:,:,:]), cmap='Greys_r') \r\n",
    "plt.show()\r\n",
    "\r\n",
    "print(\"Human Score\")\r\n",
    "display(y_test[top10[4]])\r\n",
    "print(\"Prediction\")\r\n",
    "display(preds[top10[4]][0])"
   ],
   "outputs": [
    {
     "output_type": "display_data",
     "data": {
      "text/plain": [
       "<Figure size 432x288 with 1 Axes>"
      ],
      "image/png": "[encoded data removed]"
     },
     "metadata": {
      "needs_background": "light"
     }
    },
    {
     "output_type": "stream",
     "name": "stdout",
     "text": [
      "Human Score\n"
     ]
    },
    {
     "output_type": "display_data",
     "data": {
      "text/plain": [
       "0.861111"
      ]
     },
     "metadata": {}
    },
    {
     "output_type": "stream",
     "name": "stdout",
     "text": [
      "Prediction\n"
     ]
    },
    {
     "output_type": "display_data",
     "data": {
      "text/plain": [
       "0.6359085"
      ]
     },
     "metadata": {}
    }
   ],
   "metadata": {}
  },
  {
   "cell_type": "code",
   "execution_count": 24,
   "source": [
    "plt.imshow(image.array_to_img(x_original_test[top10[5],:,:,:]), cmap='Greys_r') \n",
    "plt.show()\n",
    "\n",
    "print(\"Human Score\")\n",
    "display(y_test[top10[5]])\n",
    "print(\"Prediction\")\n",
    "display(preds[top10[5]][0])"
   ],
   "outputs": [
    {
     "output_type": "display_data",
     "data": {
      "text/plain": [
       "<Figure size 432x288 with 1 Axes>"
      ],
      "image/png": "[encoded data removed]"
     },
     "metadata": {
      "needs_background": "light"
     }
    },
    {
     "output_type": "stream",
     "name": "stdout",
     "text": [
      "Human Score\n"
     ]
    },
    {
     "output_type": "display_data",
     "data": {
      "text/plain": [
       "0.628571"
      ]
     },
     "metadata": {}
    },
    {
     "output_type": "stream",
     "name": "stdout",
     "text": [
      "Prediction\n"
     ]
    },
    {
     "output_type": "display_data",
     "data": {
      "text/plain": [
       "0.21929733"
      ]
     },
     "metadata": {}
    }
   ],
   "metadata": {}
  },
  {
   "cell_type": "code",
   "execution_count": 41,
   "source": [
    "plt.imshow(image.array_to_img(x_original_test[top10[6],:,:,:]), cmap='Greys_r') \n",
    "plt.show()\n",
    "\n",
    "print(\"Human Score\")\n",
    "display(y_test[top10[6]])\n",
    "print(\"Prediction\")\n",
    "display(preds[top10[6]][0])"
   ],
   "outputs": [
    {
     "output_type": "display_data",
     "data": {
      "text/plain": [
       "<Figure size 432x288 with 1 Axes>"
      ],
      "image/png": "[encoded data removed]"
     },
     "metadata": {
      "needs_background": "light"
     }
    },
    {
     "output_type": "stream",
     "name": "stdout",
     "text": [
      "Human Score\n"
     ]
    },
    {
     "output_type": "display_data",
     "data": {
      "text/plain": [
       "0.285714"
      ]
     },
     "metadata": {}
    },
    {
     "output_type": "stream",
     "name": "stdout",
     "text": [
      "Prediction\n"
     ]
    },
    {
     "output_type": "display_data",
     "data": {
      "text/plain": [
       "0.53010535"
      ]
     },
     "metadata": {}
    }
   ],
   "metadata": {}
  },
  {
   "cell_type": "code",
   "execution_count": 42,
   "source": [
    "plt.imshow(image.array_to_img(x_original_test[top10[7],:,:,:]), cmap='Greys_r') \n",
    "plt.show()\n",
    "\n",
    "print(\"Human Score\")\n",
    "display(y_test[top10[7]])\n",
    "print(\"Prediction\")\n",
    "display(preds[top10[7]][0])"
   ],
   "outputs": [
    {
     "output_type": "display_data",
     "data": {
      "text/plain": [
       "<Figure size 432x288 with 1 Axes>"
      ],
      "image/png": "[encoded data removed]"
     },
     "metadata": {
      "needs_background": "light"
     }
    },
    {
     "output_type": "stream",
     "name": "stdout",
     "text": [
      "Human Score\n"
     ]
    },
    {
     "output_type": "display_data",
     "data": {
      "text/plain": [
       "0.941176"
      ]
     },
     "metadata": {}
    },
    {
     "output_type": "stream",
     "name": "stdout",
     "text": [
      "Prediction\n"
     ]
    },
    {
     "output_type": "display_data",
     "data": {
      "text/plain": [
       "0.57746303"
      ]
     },
     "metadata": {}
    }
   ],
   "metadata": {}
  },
  {
   "cell_type": "code",
   "execution_count": 43,
   "source": [
    "plt.imshow(image.array_to_img(x_original_test[top10[8],:,:,:]), cmap='Greys_r') \n",
    "plt.show()\n",
    "\n",
    "print(\"Human Score\")\n",
    "display(y_test[top10[8]])\n",
    "print(\"Prediction\")\n",
    "display(preds[top10[8]][0])"
   ],
   "outputs": [
    {
     "output_type": "display_data",
     "data": {
      "text/plain": [
       "<Figure size 432x288 with 1 Axes>"
      ],
      "image/png": "[encoded data removed]"
     },
     "metadata": {
      "needs_background": "light"
     }
    },
    {
     "output_type": "stream",
     "name": "stdout",
     "text": [
      "Human Score\n"
     ]
    },
    {
     "output_type": "display_data",
     "data": {
      "text/plain": [
       "0.111111"
      ]
     },
     "metadata": {}
    },
    {
     "output_type": "stream",
     "name": "stdout",
     "text": [
      "Prediction\n"
     ]
    },
    {
     "output_type": "display_data",
     "data": {
      "text/plain": [
       "0.35789335"
      ]
     },
     "metadata": {}
    }
   ],
   "metadata": {}
  },
  {
   "cell_type": "code",
   "execution_count": 44,
   "source": [
    "plt.imshow(image.array_to_img(x_original_test[top10[9],:,:,:]), cmap='Greys_r') \n",
    "plt.show()\n",
    "\n",
    "print(\"Human Score\")\n",
    "display(y_test[top10[9]])\n",
    "print(\"Prediction\")\n",
    "display(preds[top10[9]][0])"
   ],
   "outputs": [
    {
     "output_type": "display_data",
     "data": {
      "text/plain": [
       "<Figure size 432x288 with 1 Axes>"
      ],
      "image/png": "[encoded data removed]"
     },
     "metadata": {
      "needs_background": "light"
     }
    },
    {
     "output_type": "stream",
     "name": "stdout",
     "text": [
      "Human Score\n"
     ]
    },
    {
     "output_type": "display_data",
     "data": {
      "text/plain": [
       "0.676471"
      ]
     },
     "metadata": {}
    },
    {
     "output_type": "stream",
     "name": "stdout",
     "text": [
      "Prediction\n"
     ]
    },
    {
     "output_type": "display_data",
     "data": {
      "text/plain": [
       "0.21660218"
      ]
     },
     "metadata": {}
    }
   ],
   "metadata": {}
  },
  {
   "cell_type": "code",
   "execution_count": 30,
   "source": [
    "display(\"--------------------\")"
   ],
   "outputs": [
    {
     "output_type": "display_data",
     "data": {
      "text/plain": [
       "'--------------------'"
      ]
     },
     "metadata": {}
    }
   ],
   "metadata": {}
  },
  {
   "cell_type": "code",
   "execution_count": 31,
   "source": [
    "plt.imshow(image.array_to_img(x_original_test[bottom5[0],:,:,:]), cmap='Greys_r') \n",
    "plt.show()\n",
    "\n",
    "print(\"Human Score\")\n",
    "display(y_test[bottom5[0]])\n",
    "print(\"Prediction\")\n",
    "display(preds[bottom5[0]][0])"
   ],
   "outputs": [
    {
     "output_type": "display_data",
     "data": {
      "text/plain": [
       "<Figure size 432x288 with 1 Axes>"
      ],
      "image/png": "[encoded data removed]"
     },
     "metadata": {
      "needs_background": "light"
     }
    },
    {
     "output_type": "stream",
     "name": "stdout",
     "text": [
      "Human Score\n"
     ]
    },
    {
     "output_type": "display_data",
     "data": {
      "text/plain": [
       "0.514286"
      ]
     },
     "metadata": {}
    },
    {
     "output_type": "stream",
     "name": "stdout",
     "text": [
      "Prediction\n"
     ]
    },
    {
     "output_type": "display_data",
     "data": {
      "text/plain": [
       "0.5093597"
      ]
     },
     "metadata": {}
    }
   ],
   "metadata": {}
  },
  {
   "cell_type": "code",
   "execution_count": 32,
   "source": [
    "plt.imshow(image.array_to_img(x_original_test[bottom5[1],:,:,:]), cmap='Greys_r') \n",
    "plt.show()\n",
    "\n",
    "print(\"Human Score\")\n",
    "display(y_test[bottom5[1]])\n",
    "print(\"Prediction\")\n",
    "display(preds[bottom5[1]][0])"
   ],
   "outputs": [
    {
     "output_type": "display_data",
     "data": {
      "text/plain": [
       "<Figure size 432x288 with 1 Axes>"
      ],
      "image/png": "[encoded data removed]"
     },
     "metadata": {
      "needs_background": "light"
     }
    },
    {
     "output_type": "stream",
     "name": "stdout",
     "text": [
      "Human Score\n"
     ]
    },
    {
     "output_type": "display_data",
     "data": {
      "text/plain": [
       "0.138889"
      ]
     },
     "metadata": {}
    },
    {
     "output_type": "stream",
     "name": "stdout",
     "text": [
      "Prediction\n"
     ]
    },
    {
     "output_type": "display_data",
     "data": {
      "text/plain": [
       "0.13706823"
      ]
     },
     "metadata": {}
    }
   ],
   "metadata": {}
  },
  {
   "cell_type": "code",
   "execution_count": 33,
   "source": [
    "plt.imshow(image.array_to_img(x_original_test[bottom5[2],:,:,:]), cmap='Greys_r') \n",
    "plt.show()\n",
    "\n",
    "print(\"Human Score\")\n",
    "display(y_test[bottom5[2]])\n",
    "print(\"Prediction\")\n",
    "display(preds[bottom5[2]][0])"
   ],
   "outputs": [
    {
     "output_type": "display_data",
     "data": {
      "text/plain": [
       "<Figure size 432x288 with 1 Axes>"
      ],
      "image/png": "[encoded data removed]"
     },
     "metadata": {
      "needs_background": "light"
     }
    },
    {
     "output_type": "stream",
     "name": "stdout",
     "text": [
      "Human Score\n"
     ]
    },
    {
     "output_type": "display_data",
     "data": {
      "text/plain": [
       "0.138889"
      ]
     },
     "metadata": {}
    },
    {
     "output_type": "stream",
     "name": "stdout",
     "text": [
      "Prediction\n"
     ]
    },
    {
     "output_type": "display_data",
     "data": {
      "text/plain": [
       "0.1320682"
      ]
     },
     "metadata": {}
    }
   ],
   "metadata": {}
  },
  {
   "cell_type": "code",
   "execution_count": 34,
   "source": [
    "plt.imshow(image.array_to_img(x_original_test[bottom5[3],:,:,:]), cmap='Greys_r') \n",
    "plt.show()\n",
    "\n",
    "print(\"Human Score\")\n",
    "display(y_test[bottom5[3]])\n",
    "print(\"Prediction\")\n",
    "display(preds[bottom5[3]][0])"
   ],
   "outputs": [
    {
     "output_type": "display_data",
     "data": {
      "text/plain": [
       "<Figure size 432x288 with 1 Axes>"
      ],
      "image/png": "[encoded data removed]"
     },
     "metadata": {
      "needs_background": "light"
     }
    },
    {
     "output_type": "stream",
     "name": "stdout",
     "text": [
      "Human Score\n"
     ]
    },
    {
     "output_type": "display_data",
     "data": {
      "text/plain": [
       "0.5"
      ]
     },
     "metadata": {}
    },
    {
     "output_type": "stream",
     "name": "stdout",
     "text": [
      "Prediction\n"
     ]
    },
    {
     "output_type": "display_data",
     "data": {
      "text/plain": [
       "0.5079519"
      ]
     },
     "metadata": {}
    }
   ],
   "metadata": {}
  },
  {
   "cell_type": "code",
   "execution_count": 35,
   "source": [
    "plt.imshow(image.array_to_img(x_original_test[bottom5[4],:,:,:]), cmap='Greys_r') \n",
    "plt.show()\n",
    "\n",
    "print(\"Human Score\")\n",
    "display(y_test[bottom5[4]])\n",
    "print(\"Prediction\")\n",
    "display(preds[bottom5[4]][0])"
   ],
   "outputs": [
    {
     "output_type": "display_data",
     "data": {
      "text/plain": [
       "<Figure size 432x288 with 1 Axes>"
      ],
      "image/png": "[encoded data removed]"
     },
     "metadata": {
      "needs_background": "light"
     }
    },
    {
     "output_type": "stream",
     "name": "stdout",
     "text": [
      "Human Score\n"
     ]
    },
    {
     "output_type": "display_data",
     "data": {
      "text/plain": [
       "0.142857"
      ]
     },
     "metadata": {}
    },
    {
     "output_type": "stream",
     "name": "stdout",
     "text": [
      "Prediction\n"
     ]
    },
    {
     "output_type": "display_data",
     "data": {
      "text/plain": [
       "0.15097728"
      ]
     },
     "metadata": {}
    }
   ],
   "metadata": {}
  },
  {
   "cell_type": "code",
   "execution_count": 59,
   "source": [
    "maxPred = np.amax(preds, axis=0)\n",
    "maxPredIndex = np.where(preds == maxPred)\n",
    "display(maxPred[0])\n",
    "display(maxPredIndex[0][0])"
   ],
   "outputs": [
    {
     "output_type": "display_data",
     "data": {
      "text/plain": [
       "0.87086815"
      ]
     },
     "metadata": {}
    },
    {
     "output_type": "display_data",
     "data": {
      "text/plain": [
       "53"
      ]
     },
     "metadata": {}
    }
   ],
   "metadata": {}
  },
  {
   "cell_type": "code",
   "execution_count": 60,
   "source": [
    "plt.imshow(image.array_to_img(x_original_test[maxPredIndex[0][0],:,:,:]), cmap='Greys_r') \n",
    "plt.show()\n",
    "\n",
    "print(\"Human Score\")\n",
    "display(y_test[maxPredIndex[0][0]])\n",
    "print(\"Prediction\")\n",
    "display(preds[maxPredIndex[0][0]][0])"
   ],
   "outputs": [
    {
     "output_type": "display_data",
     "data": {
      "text/plain": [
       "<Figure size 432x288 with 1 Axes>"
      ],
      "image/png": "[encoded data removed]"
     },
     "metadata": {
      "needs_background": "light"
     }
    },
    {
     "output_type": "stream",
     "name": "stdout",
     "text": [
      "Human Score\n"
     ]
    },
    {
     "output_type": "display_data",
     "data": {
      "text/plain": [
       "0.882353"
      ]
     },
     "metadata": {}
    },
    {
     "output_type": "stream",
     "name": "stdout",
     "text": [
      "Prediction\n"
     ]
    },
    {
     "output_type": "display_data",
     "data": {
      "text/plain": [
       "0.87086815"
      ]
     },
     "metadata": {}
    }
   ],
   "metadata": {}
  },
  {
   "cell_type": "code",
   "execution_count": 61,
   "source": [
    "weights = model.get_weights()[0]\n",
    "display(weights.shape)\n",
    "l1 = weights[:,0]\n",
    "display(l1.shape)"
   ],
   "outputs": [
    {
     "output_type": "display_data",
     "data": {
      "text/plain": [
       "(10000, 1)"
      ]
     },
     "metadata": {}
    },
    {
     "output_type": "display_data",
     "data": {
      "text/plain": [
       "(10000,)"
      ]
     },
     "metadata": {}
    }
   ],
   "metadata": {}
  },
  {
   "cell_type": "code",
   "execution_count": 62,
   "source": [
    "def view_weights( model, saveLoc = None ):\n",
    "    weights = model.get_weights()[0]\n",
    "    l1 = weights[:,0]\n",
    "    #(100,100) dependent on image size\n",
    "    l1 = np.reshape( l1, (100,100) )\n",
    "\n",
    "    plt.imshow(l1)\n",
    "    plt.show()\n",
    "    \n",
    "    if saveLoc != None:\n",
    "        plt.savefig( saveLoc )\n",
    "    \n",
    "view_weights(model)"
   ],
   "outputs": [
    {
     "output_type": "display_data",
     "data": {
      "text/plain": [
       "<Figure size 432x288 with 1 Axes>"
      ],
      "image/png": "[encoded data removed]"
     },
     "metadata": {
      "needs_background": "light"
     }
    }
   ],
   "metadata": {}
  },
  {
   "cell_type": "code",
   "execution_count": 40,
   "source": [
    "model.save(\"atm4wCurSingleModel\")"
   ],
   "outputs": [],
   "metadata": {}
  },
  {
   "cell_type": "code",
   "execution_count": null,
   "source": [],
   "outputs": [],
   "metadata": {}
  }
 ],
 "metadata": {
  "kernelspec": {
   "display_name": "Python 3",
   "language": "python",
   "name": "python3"
  },
  "language_info": {
   "codemirror_mode": {
    "name": "ipython",
    "version": 3
   },
   "file_extension": ".py",
   "mimetype": "text/x-python",
   "name": "python",
   "nbconvert_exporter": "python",
   "pygments_lexer": "ipython3",
   "version": "3.7.6"
  }
 },
 "nbformat": 4,
 "nbformat_minor": 4
}